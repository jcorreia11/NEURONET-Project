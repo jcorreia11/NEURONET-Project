{
 "cells": [
  {
   "cell_type": "code",
   "id": "initial_id",
   "metadata": {
    "collapsed": true,
    "ExecuteTime": {
     "end_time": "2025-08-06T09:33:58.585961Z",
     "start_time": "2025-08-06T09:33:58.349882Z"
    }
   },
   "source": [
    "import pandas as pd\n",
    "\n",
    "df = pd.read_csv('datasets/vm_power_dataset.csv')\n",
    "df.head()"
   ],
   "outputs": [
    {
     "data": {
      "text/plain": [
       "                       _time  vm_id   cpuload     disk_free    disk_total  \\\n",
       "0  2025-08-04 06:00:00+00:00    306  0.013463  3.435974e+10  3.435974e+10   \n",
       "1  2025-08-04 06:02:00+00:00    306  0.000000  3.435974e+10  3.435974e+10   \n",
       "2  2025-08-04 06:03:00+00:00    306  0.012445  3.435974e+10  3.435974e+10   \n",
       "3  2025-08-04 06:08:00+00:00    306  0.011926  3.435974e+10  3.435974e+10   \n",
       "4  2025-08-04 06:10:00+00:00    306  0.011713  3.435974e+10  3.435974e+10   \n",
       "\n",
       "   disk_used  disk_used_percentage     mem_free     mem_total      mem_used  \\\n",
       "0        0.0                   0.0  355667968.0  2.147484e+09  1.791816e+09   \n",
       "1        0.0                   0.0  355409920.0  2.147484e+09  1.792074e+09   \n",
       "2        0.0                   0.0  355164160.0  2.147484e+09  1.792319e+09   \n",
       "3        0.0                   0.0  365039616.0  2.147484e+09  1.782444e+09   \n",
       "4        0.0                   0.0  365039616.0  2.147484e+09  1.782444e+09   \n",
       "\n",
       "   ...  scaph_process_cpu_usage_percentage  scaph_process_disk_read_bytes  \\\n",
       "0  ...                            0.071093                            0.0   \n",
       "1  ...                            0.079704                            0.0   \n",
       "2  ...                            0.077035                            0.0   \n",
       "3  ...                            0.077114                            0.0   \n",
       "4  ...                            0.077024                            0.0   \n",
       "\n",
       "   scaph_process_disk_total_read_bytes  scaph_process_disk_total_write_bytes  \\\n",
       "0                         2.705371e+09                          2.744689e+10   \n",
       "1                         2.705371e+09                          2.744713e+10   \n",
       "2                         2.705371e+09                          2.744718e+10   \n",
       "3                         2.705371e+09                          2.744793e+10   \n",
       "4                         2.705371e+09                          2.744796e+10   \n",
       "\n",
       "   scaph_process_disk_write_bytes  scaph_process_memory_bytes  \\\n",
       "0                             0.0                2.143072e+09   \n",
       "1                             0.0                2.143072e+09   \n",
       "2                         28672.0                2.143072e+09   \n",
       "3                         20480.0                2.143072e+09   \n",
       "4                          4096.0                2.143072e+09   \n",
       "\n",
       "   scaph_process_memory_virtual_bytes  \\\n",
       "0                        7.446151e+09   \n",
       "1                        7.446151e+09   \n",
       "2                        7.446151e+09   \n",
       "3                        7.446151e+09   \n",
       "4                        7.446151e+09   \n",
       "\n",
       "   scaph_process_power_consumption_microwatts  uptime_hours  vm_power_watts  \n",
       "0                                63082.947669    635.190833        0.063083  \n",
       "1                                61321.703358    635.210833        0.061322  \n",
       "2                                61328.952588    635.227222        0.061329  \n",
       "3                                53760.042191    635.310556        0.053760  \n",
       "4                                59382.688984    635.343889        0.059383  \n",
       "\n",
       "[5 rows x 30 columns]"
      ],
      "text/html": [
       "<div>\n",
       "<style scoped>\n",
       "    .dataframe tbody tr th:only-of-type {\n",
       "        vertical-align: middle;\n",
       "    }\n",
       "\n",
       "    .dataframe tbody tr th {\n",
       "        vertical-align: top;\n",
       "    }\n",
       "\n",
       "    .dataframe thead th {\n",
       "        text-align: right;\n",
       "    }\n",
       "</style>\n",
       "<table border=\"1\" class=\"dataframe\">\n",
       "  <thead>\n",
       "    <tr style=\"text-align: right;\">\n",
       "      <th></th>\n",
       "      <th>_time</th>\n",
       "      <th>vm_id</th>\n",
       "      <th>cpuload</th>\n",
       "      <th>disk_free</th>\n",
       "      <th>disk_total</th>\n",
       "      <th>disk_used</th>\n",
       "      <th>disk_used_percentage</th>\n",
       "      <th>mem_free</th>\n",
       "      <th>mem_total</th>\n",
       "      <th>mem_used</th>\n",
       "      <th>...</th>\n",
       "      <th>scaph_process_cpu_usage_percentage</th>\n",
       "      <th>scaph_process_disk_read_bytes</th>\n",
       "      <th>scaph_process_disk_total_read_bytes</th>\n",
       "      <th>scaph_process_disk_total_write_bytes</th>\n",
       "      <th>scaph_process_disk_write_bytes</th>\n",
       "      <th>scaph_process_memory_bytes</th>\n",
       "      <th>scaph_process_memory_virtual_bytes</th>\n",
       "      <th>scaph_process_power_consumption_microwatts</th>\n",
       "      <th>uptime_hours</th>\n",
       "      <th>vm_power_watts</th>\n",
       "    </tr>\n",
       "  </thead>\n",
       "  <tbody>\n",
       "    <tr>\n",
       "      <th>0</th>\n",
       "      <td>2025-08-04 06:00:00+00:00</td>\n",
       "      <td>306</td>\n",
       "      <td>0.013463</td>\n",
       "      <td>3.435974e+10</td>\n",
       "      <td>3.435974e+10</td>\n",
       "      <td>0.0</td>\n",
       "      <td>0.0</td>\n",
       "      <td>355667968.0</td>\n",
       "      <td>2.147484e+09</td>\n",
       "      <td>1.791816e+09</td>\n",
       "      <td>...</td>\n",
       "      <td>0.071093</td>\n",
       "      <td>0.0</td>\n",
       "      <td>2.705371e+09</td>\n",
       "      <td>2.744689e+10</td>\n",
       "      <td>0.0</td>\n",
       "      <td>2.143072e+09</td>\n",
       "      <td>7.446151e+09</td>\n",
       "      <td>63082.947669</td>\n",
       "      <td>635.190833</td>\n",
       "      <td>0.063083</td>\n",
       "    </tr>\n",
       "    <tr>\n",
       "      <th>1</th>\n",
       "      <td>2025-08-04 06:02:00+00:00</td>\n",
       "      <td>306</td>\n",
       "      <td>0.000000</td>\n",
       "      <td>3.435974e+10</td>\n",
       "      <td>3.435974e+10</td>\n",
       "      <td>0.0</td>\n",
       "      <td>0.0</td>\n",
       "      <td>355409920.0</td>\n",
       "      <td>2.147484e+09</td>\n",
       "      <td>1.792074e+09</td>\n",
       "      <td>...</td>\n",
       "      <td>0.079704</td>\n",
       "      <td>0.0</td>\n",
       "      <td>2.705371e+09</td>\n",
       "      <td>2.744713e+10</td>\n",
       "      <td>0.0</td>\n",
       "      <td>2.143072e+09</td>\n",
       "      <td>7.446151e+09</td>\n",
       "      <td>61321.703358</td>\n",
       "      <td>635.210833</td>\n",
       "      <td>0.061322</td>\n",
       "    </tr>\n",
       "    <tr>\n",
       "      <th>2</th>\n",
       "      <td>2025-08-04 06:03:00+00:00</td>\n",
       "      <td>306</td>\n",
       "      <td>0.012445</td>\n",
       "      <td>3.435974e+10</td>\n",
       "      <td>3.435974e+10</td>\n",
       "      <td>0.0</td>\n",
       "      <td>0.0</td>\n",
       "      <td>355164160.0</td>\n",
       "      <td>2.147484e+09</td>\n",
       "      <td>1.792319e+09</td>\n",
       "      <td>...</td>\n",
       "      <td>0.077035</td>\n",
       "      <td>0.0</td>\n",
       "      <td>2.705371e+09</td>\n",
       "      <td>2.744718e+10</td>\n",
       "      <td>28672.0</td>\n",
       "      <td>2.143072e+09</td>\n",
       "      <td>7.446151e+09</td>\n",
       "      <td>61328.952588</td>\n",
       "      <td>635.227222</td>\n",
       "      <td>0.061329</td>\n",
       "    </tr>\n",
       "    <tr>\n",
       "      <th>3</th>\n",
       "      <td>2025-08-04 06:08:00+00:00</td>\n",
       "      <td>306</td>\n",
       "      <td>0.011926</td>\n",
       "      <td>3.435974e+10</td>\n",
       "      <td>3.435974e+10</td>\n",
       "      <td>0.0</td>\n",
       "      <td>0.0</td>\n",
       "      <td>365039616.0</td>\n",
       "      <td>2.147484e+09</td>\n",
       "      <td>1.782444e+09</td>\n",
       "      <td>...</td>\n",
       "      <td>0.077114</td>\n",
       "      <td>0.0</td>\n",
       "      <td>2.705371e+09</td>\n",
       "      <td>2.744793e+10</td>\n",
       "      <td>20480.0</td>\n",
       "      <td>2.143072e+09</td>\n",
       "      <td>7.446151e+09</td>\n",
       "      <td>53760.042191</td>\n",
       "      <td>635.310556</td>\n",
       "      <td>0.053760</td>\n",
       "    </tr>\n",
       "    <tr>\n",
       "      <th>4</th>\n",
       "      <td>2025-08-04 06:10:00+00:00</td>\n",
       "      <td>306</td>\n",
       "      <td>0.011713</td>\n",
       "      <td>3.435974e+10</td>\n",
       "      <td>3.435974e+10</td>\n",
       "      <td>0.0</td>\n",
       "      <td>0.0</td>\n",
       "      <td>365039616.0</td>\n",
       "      <td>2.147484e+09</td>\n",
       "      <td>1.782444e+09</td>\n",
       "      <td>...</td>\n",
       "      <td>0.077024</td>\n",
       "      <td>0.0</td>\n",
       "      <td>2.705371e+09</td>\n",
       "      <td>2.744796e+10</td>\n",
       "      <td>4096.0</td>\n",
       "      <td>2.143072e+09</td>\n",
       "      <td>7.446151e+09</td>\n",
       "      <td>59382.688984</td>\n",
       "      <td>635.343889</td>\n",
       "      <td>0.059383</td>\n",
       "    </tr>\n",
       "  </tbody>\n",
       "</table>\n",
       "<p>5 rows × 30 columns</p>\n",
       "</div>"
      ]
     },
     "execution_count": 1,
     "metadata": {},
     "output_type": "execute_result"
    }
   ],
   "execution_count": 1
  },
  {
   "metadata": {
    "ExecuteTime": {
     "end_time": "2025-08-06T09:33:58.630988Z",
     "start_time": "2025-08-06T09:33:58.628549Z"
    }
   },
   "cell_type": "code",
   "source": [
    "features = [\n",
    "    'cpuload',\n",
    "    'mem_used_percentage',\n",
    "    'mem_total',\n",
    "    'mem_used',\n",
    "    'disk_used_percentage',\n",
    "    'disk_total',\n",
    "    'disk_used',\n",
    "    'uptime',\n",
    "    'scaph_process_cpu_usage_percentage',\n",
    "    'scaph_process_memory_bytes',\n",
    "    'scaph_process_memory_virtual_bytes',\n",
    "    'scaph_process_disk_read_bytes',\n",
    "    'scaph_process_disk_write_bytes',\n",
    "    'scaph_process_power_consumption_microwatts'\n",
    "]\n"
   ],
   "id": "f4c22f96698c0cbd",
   "outputs": [],
   "execution_count": 2
  },
  {
   "metadata": {
    "ExecuteTime": {
     "end_time": "2025-08-06T09:33:59.358225Z",
     "start_time": "2025-08-06T09:33:58.980415Z"
    }
   },
   "cell_type": "code",
   "source": [
    "from sklearn.preprocessing import StandardScaler\n",
    "\n",
    "# Drop NaNs\n",
    "merged_df = df[features].dropna()\n",
    "\n",
    "# Normalize\n",
    "scaler = StandardScaler()\n",
    "X_scaled = scaler.fit_transform(merged_df)"
   ],
   "id": "330df3e7c1900be7",
   "outputs": [],
   "execution_count": 3
  },
  {
   "metadata": {
    "ExecuteTime": {
     "end_time": "2025-08-06T10:13:07.054689Z",
     "start_time": "2025-08-06T10:13:04.722334Z"
    }
   },
   "cell_type": "code",
   "source": [
    "from keras.models import Model\n",
    "from keras.layers import Input, Dense\n",
    "\n",
    "input_dim = X_scaled.shape[1]\n",
    "input_layer = Input(shape=(input_dim,))\n",
    "\n",
    "# Encoder\n",
    "encoded = Dense(16, activation=\"relu\")(input_layer)\n",
    "encoded = Dense(8, activation=\"relu\")(encoded)\n",
    "\n",
    "# Decoder\n",
    "decoded = Dense(16, activation=\"relu\")(encoded)\n",
    "decoded = Dense(input_dim, activation=\"linear\")(decoded)\n",
    "\n",
    "# Autoencoder model\n",
    "autoencoder = Model(inputs=input_layer, outputs=decoded)\n",
    "autoencoder.compile(optimizer='adam', loss='mse')"
   ],
   "id": "293ccb976ba2b5f3",
   "outputs": [
    {
     "name": "stderr",
     "output_type": "stream",
     "text": [
      "2025-08-06 11:13:04.966126: E external/local_xla/xla/stream_executor/cuda/cuda_fft.cc:467] Unable to register cuFFT factory: Attempting to register factory for plugin cuFFT when one has already been registered\n",
      "WARNING: All log messages before absl::InitializeLog() is called are written to STDERR\n",
      "E0000 00:00:1754475184.980016   35436 cuda_dnn.cc:8579] Unable to register cuDNN factory: Attempting to register factory for plugin cuDNN when one has already been registered\n",
      "E0000 00:00:1754475184.984508   35436 cuda_blas.cc:1407] Unable to register cuBLAS factory: Attempting to register factory for plugin cuBLAS when one has already been registered\n",
      "W0000 00:00:1754475184.995690   35436 computation_placer.cc:177] computation placer already registered. Please check linkage and avoid linking the same target more than once.\n",
      "W0000 00:00:1754475184.995709   35436 computation_placer.cc:177] computation placer already registered. Please check linkage and avoid linking the same target more than once.\n",
      "W0000 00:00:1754475184.995711   35436 computation_placer.cc:177] computation placer already registered. Please check linkage and avoid linking the same target more than once.\n",
      "W0000 00:00:1754475184.995712   35436 computation_placer.cc:177] computation placer already registered. Please check linkage and avoid linking the same target more than once.\n",
      "2025-08-06 11:13:04.999126: I tensorflow/core/platform/cpu_feature_guard.cc:210] This TensorFlow binary is optimized to use available CPU instructions in performance-critical operations.\n",
      "To enable the following instructions: AVX2 FMA, in other operations, rebuild TensorFlow with the appropriate compiler flags.\n",
      "W0000 00:00:1754475186.992413   35436 gpu_device.cc:2341] Cannot dlopen some GPU libraries. Please make sure the missing libraries mentioned above are installed properly if you would like to use GPU. Follow the guide at https://www.tensorflow.org/install/gpu for how to download and setup the required libraries for your platform.\n",
      "Skipping registering GPU devices...\n"
     ]
    }
   ],
   "execution_count": 5
  },
  {
   "metadata": {
    "ExecuteTime": {
     "end_time": "2025-08-06T10:14:36.645076Z",
     "start_time": "2025-08-06T10:14:33.606417Z"
    }
   },
   "cell_type": "code",
   "source": [
    "autoencoder.fit(X_scaled, X_scaled,\n",
    "                epochs=50,\n",
    "                batch_size=64,\n",
    "                shuffle=True,\n",
    "                validation_split=0.1)\n"
   ],
   "id": "9de81a1f012658b1",
   "outputs": [
    {
     "name": "stdout",
     "output_type": "stream",
     "text": [
      "Epoch 1/50\n",
      "\u001B[1m5/5\u001B[0m \u001B[32m━━━━━━━━━━━━━━━━━━━━\u001B[0m\u001B[37m\u001B[0m \u001B[1m0s\u001B[0m 16ms/step - loss: 0.1794 - val_loss: 0.0740\n",
      "Epoch 2/50\n",
      "\u001B[1m5/5\u001B[0m \u001B[32m━━━━━━━━━━━━━━━━━━━━\u001B[0m\u001B[37m\u001B[0m \u001B[1m0s\u001B[0m 10ms/step - loss: 0.1640 - val_loss: 0.0653\n",
      "Epoch 3/50\n",
      "\u001B[1m5/5\u001B[0m \u001B[32m━━━━━━━━━━━━━━━━━━━━\u001B[0m\u001B[37m\u001B[0m \u001B[1m0s\u001B[0m 10ms/step - loss: 0.1500 - val_loss: 0.0578\n",
      "Epoch 4/50\n",
      "\u001B[1m5/5\u001B[0m \u001B[32m━━━━━━━━━━━━━━━━━━━━\u001B[0m\u001B[37m\u001B[0m \u001B[1m0s\u001B[0m 11ms/step - loss: 0.1381 - val_loss: 0.0513\n",
      "Epoch 5/50\n",
      "\u001B[1m5/5\u001B[0m \u001B[32m━━━━━━━━━━━━━━━━━━━━\u001B[0m\u001B[37m\u001B[0m \u001B[1m0s\u001B[0m 11ms/step - loss: 0.1271 - val_loss: 0.0457\n",
      "Epoch 6/50\n",
      "\u001B[1m5/5\u001B[0m \u001B[32m━━━━━━━━━━━━━━━━━━━━\u001B[0m\u001B[37m\u001B[0m \u001B[1m0s\u001B[0m 11ms/step - loss: 0.1172 - val_loss: 0.0409\n",
      "Epoch 7/50\n",
      "\u001B[1m5/5\u001B[0m \u001B[32m━━━━━━━━━━━━━━━━━━━━\u001B[0m\u001B[37m\u001B[0m \u001B[1m0s\u001B[0m 11ms/step - loss: 0.1092 - val_loss: 0.0368\n",
      "Epoch 8/50\n",
      "\u001B[1m5/5\u001B[0m \u001B[32m━━━━━━━━━━━━━━━━━━━━\u001B[0m\u001B[37m\u001B[0m \u001B[1m0s\u001B[0m 11ms/step - loss: 0.1013 - val_loss: 0.0334\n",
      "Epoch 9/50\n",
      "\u001B[1m5/5\u001B[0m \u001B[32m━━━━━━━━━━━━━━━━━━━━\u001B[0m\u001B[37m\u001B[0m \u001B[1m0s\u001B[0m 11ms/step - loss: 0.0955 - val_loss: 0.0305\n",
      "Epoch 10/50\n",
      "\u001B[1m5/5\u001B[0m \u001B[32m━━━━━━━━━━━━━━━━━━━━\u001B[0m\u001B[37m\u001B[0m \u001B[1m0s\u001B[0m 11ms/step - loss: 0.0891 - val_loss: 0.0282\n",
      "Epoch 11/50\n",
      "\u001B[1m5/5\u001B[0m \u001B[32m━━━━━━━━━━━━━━━━━━━━\u001B[0m\u001B[37m\u001B[0m \u001B[1m0s\u001B[0m 11ms/step - loss: 0.0845 - val_loss: 0.0260\n",
      "Epoch 12/50\n",
      "\u001B[1m5/5\u001B[0m \u001B[32m━━━━━━━━━━━━━━━━━━━━\u001B[0m\u001B[37m\u001B[0m \u001B[1m0s\u001B[0m 11ms/step - loss: 0.0798 - val_loss: 0.0242\n",
      "Epoch 13/50\n",
      "\u001B[1m5/5\u001B[0m \u001B[32m━━━━━━━━━━━━━━━━━━━━\u001B[0m\u001B[37m\u001B[0m \u001B[1m0s\u001B[0m 10ms/step - loss: 0.0750 - val_loss: 0.0229\n",
      "Epoch 14/50\n",
      "\u001B[1m5/5\u001B[0m \u001B[32m━━━━━━━━━━━━━━━━━━━━\u001B[0m\u001B[37m\u001B[0m \u001B[1m0s\u001B[0m 11ms/step - loss: 0.0717 - val_loss: 0.0217\n",
      "Epoch 15/50\n",
      "\u001B[1m5/5\u001B[0m \u001B[32m━━━━━━━━━━━━━━━━━━━━\u001B[0m\u001B[37m\u001B[0m \u001B[1m0s\u001B[0m 11ms/step - loss: 0.0679 - val_loss: 0.0208\n",
      "Epoch 16/50\n",
      "\u001B[1m5/5\u001B[0m \u001B[32m━━━━━━━━━━━━━━━━━━━━\u001B[0m\u001B[37m\u001B[0m \u001B[1m0s\u001B[0m 11ms/step - loss: 0.0649 - val_loss: 0.0201\n",
      "Epoch 17/50\n",
      "\u001B[1m5/5\u001B[0m \u001B[32m━━━━━━━━━━━━━━━━━━━━\u001B[0m\u001B[37m\u001B[0m \u001B[1m0s\u001B[0m 11ms/step - loss: 0.0623 - val_loss: 0.0192\n",
      "Epoch 18/50\n",
      "\u001B[1m5/5\u001B[0m \u001B[32m━━━━━━━━━━━━━━━━━━━━\u001B[0m\u001B[37m\u001B[0m \u001B[1m0s\u001B[0m 11ms/step - loss: 0.0601 - val_loss: 0.0185\n",
      "Epoch 19/50\n",
      "\u001B[1m5/5\u001B[0m \u001B[32m━━━━━━━━━━━━━━━━━━━━\u001B[0m\u001B[37m\u001B[0m \u001B[1m0s\u001B[0m 10ms/step - loss: 0.0572 - val_loss: 0.0180\n",
      "Epoch 20/50\n",
      "\u001B[1m5/5\u001B[0m \u001B[32m━━━━━━━━━━━━━━━━━━━━\u001B[0m\u001B[37m\u001B[0m \u001B[1m0s\u001B[0m 10ms/step - loss: 0.0544 - val_loss: 0.0175\n",
      "Epoch 21/50\n",
      "\u001B[1m5/5\u001B[0m \u001B[32m━━━━━━━━━━━━━━━━━━━━\u001B[0m\u001B[37m\u001B[0m \u001B[1m0s\u001B[0m 10ms/step - loss: 0.0522 - val_loss: 0.0172\n",
      "Epoch 22/50\n",
      "\u001B[1m5/5\u001B[0m \u001B[32m━━━━━━━━━━━━━━━━━━━━\u001B[0m\u001B[37m\u001B[0m \u001B[1m0s\u001B[0m 11ms/step - loss: 0.0500 - val_loss: 0.0169\n",
      "Epoch 23/50\n",
      "\u001B[1m5/5\u001B[0m \u001B[32m━━━━━━━━━━━━━━━━━━━━\u001B[0m\u001B[37m\u001B[0m \u001B[1m0s\u001B[0m 13ms/step - loss: 0.0483 - val_loss: 0.0166\n",
      "Epoch 24/50\n",
      "\u001B[1m5/5\u001B[0m \u001B[32m━━━━━━━━━━━━━━━━━━━━\u001B[0m\u001B[37m\u001B[0m \u001B[1m0s\u001B[0m 10ms/step - loss: 0.0461 - val_loss: 0.0163\n",
      "Epoch 25/50\n",
      "\u001B[1m5/5\u001B[0m \u001B[32m━━━━━━━━━━━━━━━━━━━━\u001B[0m\u001B[37m\u001B[0m \u001B[1m0s\u001B[0m 11ms/step - loss: 0.0441 - val_loss: 0.0160\n",
      "Epoch 26/50\n",
      "\u001B[1m5/5\u001B[0m \u001B[32m━━━━━━━━━━━━━━━━━━━━\u001B[0m\u001B[37m\u001B[0m \u001B[1m0s\u001B[0m 10ms/step - loss: 0.0427 - val_loss: 0.0157\n",
      "Epoch 27/50\n",
      "\u001B[1m5/5\u001B[0m \u001B[32m━━━━━━━━━━━━━━━━━━━━\u001B[0m\u001B[37m\u001B[0m \u001B[1m0s\u001B[0m 10ms/step - loss: 0.0407 - val_loss: 0.0152\n",
      "Epoch 28/50\n",
      "\u001B[1m5/5\u001B[0m \u001B[32m━━━━━━━━━━━━━━━━━━━━\u001B[0m\u001B[37m\u001B[0m \u001B[1m0s\u001B[0m 10ms/step - loss: 0.0388 - val_loss: 0.0151\n",
      "Epoch 29/50\n",
      "\u001B[1m5/5\u001B[0m \u001B[32m━━━━━━━━━━━━━━━━━━━━\u001B[0m\u001B[37m\u001B[0m \u001B[1m0s\u001B[0m 10ms/step - loss: 0.0375 - val_loss: 0.0150\n",
      "Epoch 30/50\n",
      "\u001B[1m5/5\u001B[0m \u001B[32m━━━━━━━━━━━━━━━━━━━━\u001B[0m\u001B[37m\u001B[0m \u001B[1m0s\u001B[0m 10ms/step - loss: 0.0364 - val_loss: 0.0148\n",
      "Epoch 31/50\n",
      "\u001B[1m5/5\u001B[0m \u001B[32m━━━━━━━━━━━━━━━━━━━━\u001B[0m\u001B[37m\u001B[0m \u001B[1m0s\u001B[0m 10ms/step - loss: 0.0348 - val_loss: 0.0146\n",
      "Epoch 32/50\n",
      "\u001B[1m5/5\u001B[0m \u001B[32m━━━━━━━━━━━━━━━━━━━━\u001B[0m\u001B[37m\u001B[0m \u001B[1m0s\u001B[0m 11ms/step - loss: 0.0329 - val_loss: 0.0144\n",
      "Epoch 33/50\n",
      "\u001B[1m5/5\u001B[0m \u001B[32m━━━━━━━━━━━━━━━━━━━━\u001B[0m\u001B[37m\u001B[0m \u001B[1m0s\u001B[0m 10ms/step - loss: 0.0322 - val_loss: 0.0141\n",
      "Epoch 34/50\n",
      "\u001B[1m5/5\u001B[0m \u001B[32m━━━━━━━━━━━━━━━━━━━━\u001B[0m\u001B[37m\u001B[0m \u001B[1m0s\u001B[0m 11ms/step - loss: 0.0306 - val_loss: 0.0140\n",
      "Epoch 35/50\n",
      "\u001B[1m5/5\u001B[0m \u001B[32m━━━━━━━━━━━━━━━━━━━━\u001B[0m\u001B[37m\u001B[0m \u001B[1m0s\u001B[0m 10ms/step - loss: 0.0296 - val_loss: 0.0139\n",
      "Epoch 36/50\n",
      "\u001B[1m5/5\u001B[0m \u001B[32m━━━━━━━━━━━━━━━━━━━━\u001B[0m\u001B[37m\u001B[0m \u001B[1m0s\u001B[0m 10ms/step - loss: 0.0285 - val_loss: 0.0137\n",
      "Epoch 37/50\n",
      "\u001B[1m5/5\u001B[0m \u001B[32m━━━━━━━━━━━━━━━━━━━━\u001B[0m\u001B[37m\u001B[0m \u001B[1m0s\u001B[0m 12ms/step - loss: 0.0276 - val_loss: 0.0135\n",
      "Epoch 38/50\n",
      "\u001B[1m5/5\u001B[0m \u001B[32m━━━━━━━━━━━━━━━━━━━━\u001B[0m\u001B[37m\u001B[0m \u001B[1m0s\u001B[0m 10ms/step - loss: 0.0270 - val_loss: 0.0132\n",
      "Epoch 39/50\n",
      "\u001B[1m5/5\u001B[0m \u001B[32m━━━━━━━━━━━━━━━━━━━━\u001B[0m\u001B[37m\u001B[0m \u001B[1m0s\u001B[0m 10ms/step - loss: 0.0258 - val_loss: 0.0132\n",
      "Epoch 40/50\n",
      "\u001B[1m5/5\u001B[0m \u001B[32m━━━━━━━━━━━━━━━━━━━━\u001B[0m\u001B[37m\u001B[0m \u001B[1m0s\u001B[0m 10ms/step - loss: 0.0251 - val_loss: 0.0131\n",
      "Epoch 41/50\n",
      "\u001B[1m5/5\u001B[0m \u001B[32m━━━━━━━━━━━━━━━━━━━━\u001B[0m\u001B[37m\u001B[0m \u001B[1m0s\u001B[0m 10ms/step - loss: 0.0244 - val_loss: 0.0129\n",
      "Epoch 42/50\n",
      "\u001B[1m5/5\u001B[0m \u001B[32m━━━━━━━━━━━━━━━━━━━━\u001B[0m\u001B[37m\u001B[0m \u001B[1m0s\u001B[0m 11ms/step - loss: 0.0238 - val_loss: 0.0127\n",
      "Epoch 43/50\n",
      "\u001B[1m5/5\u001B[0m \u001B[32m━━━━━━━━━━━━━━━━━━━━\u001B[0m\u001B[37m\u001B[0m \u001B[1m0s\u001B[0m 10ms/step - loss: 0.0230 - val_loss: 0.0127\n",
      "Epoch 44/50\n",
      "\u001B[1m5/5\u001B[0m \u001B[32m━━━━━━━━━━━━━━━━━━━━\u001B[0m\u001B[37m\u001B[0m \u001B[1m0s\u001B[0m 10ms/step - loss: 0.0227 - val_loss: 0.0125\n",
      "Epoch 45/50\n",
      "\u001B[1m5/5\u001B[0m \u001B[32m━━━━━━━━━━━━━━━━━━━━\u001B[0m\u001B[37m\u001B[0m \u001B[1m0s\u001B[0m 12ms/step - loss: 0.0219 - val_loss: 0.0124\n",
      "Epoch 46/50\n",
      "\u001B[1m5/5\u001B[0m \u001B[32m━━━━━━━━━━━━━━━━━━━━\u001B[0m\u001B[37m\u001B[0m \u001B[1m0s\u001B[0m 11ms/step - loss: 0.0215 - val_loss: 0.0123\n",
      "Epoch 47/50\n",
      "\u001B[1m5/5\u001B[0m \u001B[32m━━━━━━━━━━━━━━━━━━━━\u001B[0m\u001B[37m\u001B[0m \u001B[1m0s\u001B[0m 10ms/step - loss: 0.0210 - val_loss: 0.0122\n",
      "Epoch 48/50\n",
      "\u001B[1m5/5\u001B[0m \u001B[32m━━━━━━━━━━━━━━━━━━━━\u001B[0m\u001B[37m\u001B[0m \u001B[1m0s\u001B[0m 10ms/step - loss: 0.0207 - val_loss: 0.0121\n",
      "Epoch 49/50\n",
      "\u001B[1m5/5\u001B[0m \u001B[32m━━━━━━━━━━━━━━━━━━━━\u001B[0m\u001B[37m\u001B[0m \u001B[1m0s\u001B[0m 10ms/step - loss: 0.0202 - val_loss: 0.0119\n",
      "Epoch 50/50\n",
      "\u001B[1m5/5\u001B[0m \u001B[32m━━━━━━━━━━━━━━━━━━━━\u001B[0m\u001B[37m\u001B[0m \u001B[1m0s\u001B[0m 10ms/step - loss: 0.0199 - val_loss: 0.0118\n"
     ]
    },
    {
     "data": {
      "text/plain": [
       "<keras.src.callbacks.history.History at 0x7f1f1768a380>"
      ]
     },
     "execution_count": 7,
     "metadata": {},
     "output_type": "execute_result"
    }
   ],
   "execution_count": 7
  },
  {
   "metadata": {
    "ExecuteTime": {
     "end_time": "2025-08-06T10:14:51.295064Z",
     "start_time": "2025-08-06T10:14:51.180967Z"
    }
   },
   "cell_type": "code",
   "source": [
    "import numpy as np\n",
    "\n",
    "# Predict/reconstruct\n",
    "X_pred = autoencoder.predict(X_scaled)\n",
    "mse = np.mean(np.power(X_scaled - X_pred, 2), axis=1)"
   ],
   "id": "833c35a85dd53d0e",
   "outputs": [
    {
     "name": "stdout",
     "output_type": "stream",
     "text": [
      "\u001B[1m12/12\u001B[0m \u001B[32m━━━━━━━━━━━━━━━━━━━━\u001B[0m\u001B[37m\u001B[0m \u001B[1m0s\u001B[0m 4ms/step \n"
     ]
    }
   ],
   "execution_count": 8
  },
  {
   "metadata": {
    "ExecuteTime": {
     "end_time": "2025-08-06T10:14:57.809427Z",
     "start_time": "2025-08-06T10:14:57.804057Z"
    }
   },
   "cell_type": "code",
   "source": [
    "# Simple threshold: mean + 3 * std\n",
    "threshold = np.mean(mse) + 3 * np.std(mse)\n",
    "\n",
    "# Flag anomalies\n",
    "anomalies = mse > threshold"
   ],
   "id": "ebf7334811e3e58d",
   "outputs": [],
   "execution_count": 9
  },
  {
   "metadata": {
    "ExecuteTime": {
     "end_time": "2025-08-06T10:15:06.757945Z",
     "start_time": "2025-08-06T10:15:06.752381Z"
    }
   },
   "cell_type": "code",
   "source": [
    "merged_df['reconstruction_error'] = mse\n",
    "merged_df['is_anomaly'] = anomalies"
   ],
   "id": "63c124e36dac142d",
   "outputs": [],
   "execution_count": 10
  },
  {
   "metadata": {
    "ExecuteTime": {
     "end_time": "2025-08-06T10:16:05.599100Z",
     "start_time": "2025-08-06T10:16:04.969271Z"
    }
   },
   "cell_type": "code",
   "source": [
    "import matplotlib.pyplot as plt\n",
    "\n",
    "plt.figure(figsize=(12, 6))\n",
    "plt.plot(df['_time'], mse, label='Reconstruction Error')\n",
    "plt.axhline(y=threshold, color='r', linestyle='--', label='Threshold')\n",
    "plt.title(\"Anomaly Detection using Autoencoder\")\n",
    "plt.xlabel(\"Time\")\n",
    "plt.ylabel(\"Reconstruction Error\")\n",
    "plt.legend()\n",
    "plt.show()"
   ],
   "id": "73251ea8af6206be",
   "outputs": [
    {
     "data": {
      "text/plain": [
       "<Figure size 1200x600 with 1 Axes>"
      ],
      "image/png": "[encoded data removed]"
     },
     "metadata": {},
     "output_type": "display_data"
    }
   ],
   "execution_count": 13
  },
  {
   "metadata": {},
   "cell_type": "code",
   "outputs": [],
   "execution_count": null,
   "source": "",
   "id": "cb6bd56004ddcb5d"
  }
 ],
 "metadata": {
  "kernelspec": {
   "display_name": "Python 3",
   "language": "python",
   "name": "python3"
  },
  "language_info": {
   "codemirror_mode": {
    "name": "ipython",
    "version": 2
   },
   "file_extension": ".py",
   "mimetype": "text/x-python",
   "name": "python",
   "nbconvert_exporter": "python",
   "pygments_lexer": "ipython2",
   "version": "2.7.6"
  }
 },
 "nbformat": 4,
 "nbformat_minor": 5
}
