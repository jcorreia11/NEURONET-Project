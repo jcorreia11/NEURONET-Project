{
 "cells": [
  {
   "cell_type": "code",
   "id": "initial_id",
   "metadata": {
    "collapsed": true,
    "ExecuteTime": {
     "end_time": "2025-08-05T13:12:47.030168Z",
     "start_time": "2025-08-05T13:12:46.709707Z"
    }
   },
   "source": [
    "import pandas as pd\n",
    "\n",
    "k8s = pd.read_csv('k8s_processed.csv')\n",
    "k8s.isna().sum()"
   ],
   "outputs": [
    {
     "data": {
      "text/plain": [
       "_time                         0\n",
       "container_name                0\n",
       "namespace                     0\n",
       "node_name                     0\n",
       "pod_name                      0\n",
       "cpu_usage_core_nanoseconds    0\n",
       "cpu_usage_nanocores           0\n",
       "logsfs_available_bytes        0\n",
       "logsfs_capacity_bytes         0\n",
       "logsfs_used_bytes             0\n",
       "memory_major_page_faults      0\n",
       "memory_page_faults            0\n",
       "memory_rss_bytes              0\n",
       "memory_usage_bytes            0\n",
       "memory_working_set_bytes      0\n",
       "rootfs_available_bytes        0\n",
       "rootfs_capacity_bytes         0\n",
       "rootfs_used_bytes             0\n",
       "dtype: int64"
      ]
     },
     "execution_count": 1,
     "metadata": {},
     "output_type": "execute_result"
    }
   ],
   "execution_count": 1
  },
  {
   "metadata": {
    "ExecuteTime": {
     "end_time": "2025-08-05T13:49:00.655075Z",
     "start_time": "2025-08-05T13:49:00.649835Z"
    }
   },
   "cell_type": "code",
   "source": "k8s.shape",
   "id": "4a222f5038ba1bb6",
   "outputs": [
    {
     "data": {
      "text/plain": [
       "(50726, 18)"
      ]
     },
     "execution_count": 16,
     "metadata": {},
     "output_type": "execute_result"
    }
   ],
   "execution_count": 16
  },
  {
   "metadata": {
    "ExecuteTime": {
     "end_time": "2025-08-05T13:17:22.677722Z",
     "start_time": "2025-08-05T13:17:22.673943Z"
    }
   },
   "cell_type": "code",
   "source": "k8s.columns",
   "id": "b9b9129a245f6eb9",
   "outputs": [
    {
     "data": {
      "text/plain": [
       "Index(['_time', 'container_name', 'namespace', 'node_name', 'pod_name',\n",
       "       'cpu_usage_core_nanoseconds', 'cpu_usage_nanocores',\n",
       "       'logsfs_available_bytes', 'logsfs_capacity_bytes', 'logsfs_used_bytes',\n",
       "       'memory_major_page_faults', 'memory_page_faults', 'memory_rss_bytes',\n",
       "       'memory_usage_bytes', 'memory_working_set_bytes',\n",
       "       'rootfs_available_bytes', 'rootfs_capacity_bytes', 'rootfs_used_bytes'],\n",
       "      dtype='object')"
      ]
     },
     "execution_count": 10,
     "metadata": {},
     "output_type": "execute_result"
    }
   ],
   "execution_count": 10
  },
  {
   "metadata": {
    "ExecuteTime": {
     "end_time": "2025-08-05T13:12:58.958924Z",
     "start_time": "2025-08-05T13:12:58.938452Z"
    }
   },
   "cell_type": "code",
   "source": [
    "kepler = pd.read_csv('kepler_processed.csv')\n",
    "kepler.isna().sum()"
   ],
   "id": "78092e51c8491a5d",
   "outputs": [
    {
     "data": {
      "text/plain": [
       "_time                                            0\n",
       "container_id                                     0\n",
       "container_name                                   0\n",
       "namespace                                        0\n",
       "pod_name                                         0\n",
       "kepler_container_joules_total                    0\n",
       "kepler_container_microwatts_consumption_total    0\n",
       "dtype: int64"
      ]
     },
     "execution_count": 2,
     "metadata": {},
     "output_type": "execute_result"
    }
   ],
   "execution_count": 2
  },
  {
   "metadata": {
    "ExecuteTime": {
     "end_time": "2025-08-05T13:49:16.061679Z",
     "start_time": "2025-08-05T13:49:16.058756Z"
    }
   },
   "cell_type": "code",
   "source": "kepler.shape",
   "id": "b36373ebe5117806",
   "outputs": [
    {
     "data": {
      "text/plain": [
       "(6248, 7)"
      ]
     },
     "execution_count": 17,
     "metadata": {},
     "output_type": "execute_result"
    }
   ],
   "execution_count": 17
  },
  {
   "metadata": {
    "ExecuteTime": {
     "end_time": "2025-08-05T13:18:29.942340Z",
     "start_time": "2025-08-05T13:18:29.939129Z"
    }
   },
   "cell_type": "code",
   "source": "kepler.columns",
   "id": "75e7268fab8fa051",
   "outputs": [
    {
     "data": {
      "text/plain": [
       "Index(['_time', 'container_id', 'container_name', 'namespace', 'pod_name',\n",
       "       'kepler_container_joules_total',\n",
       "       'kepler_container_microwatts_consumption_total'],\n",
       "      dtype='object')"
      ]
     },
     "execution_count": 11,
     "metadata": {},
     "output_type": "execute_result"
    }
   ],
   "execution_count": 11
  },
  {
   "metadata": {
    "ExecuteTime": {
     "end_time": "2025-08-05T13:13:07.968259Z",
     "start_time": "2025-08-05T13:13:07.936825Z"
    }
   },
   "cell_type": "code",
   "source": [
    "pdu = pd.read_csv('pdu_processed.csv')\n",
    "pdu.isna().sum()"
   ],
   "id": "60ef4dd3ed01ada",
   "outputs": [
    {
     "data": {
      "text/plain": [
       "_time                  0\n",
       "inventory-server-id    0\n",
       "placement              0\n",
       "url_x                  0\n",
       "activePower            0\n",
       "apparentPower          0\n",
       "cumulatedEnergy        0\n",
       "current                0\n",
       "currentTHD             0\n",
       "partialEnergy          0\n",
       "peakFactor             0\n",
       "powerFactor            0\n",
       "reactivePower          0\n",
       "url_y                  0\n",
       "dtype: int64"
      ]
     },
     "execution_count": 3,
     "metadata": {},
     "output_type": "execute_result"
    }
   ],
   "execution_count": 3
  },
  {
   "metadata": {
    "ExecuteTime": {
     "end_time": "2025-08-05T13:18:46.434993Z",
     "start_time": "2025-08-05T13:18:46.431963Z"
    }
   },
   "cell_type": "code",
   "source": "pdu.columns",
   "id": "3cacc3b2be60a9a7",
   "outputs": [
    {
     "data": {
      "text/plain": [
       "Index(['_time', 'inventory-server-id', 'placement', 'url_x', 'activePower',\n",
       "       'apparentPower', 'cumulatedEnergy', 'current', 'currentTHD',\n",
       "       'partialEnergy', 'peakFactor', 'powerFactor', 'reactivePower', 'url_y'],\n",
       "      dtype='object')"
      ]
     },
     "execution_count": 12,
     "metadata": {},
     "output_type": "execute_result"
    }
   ],
   "execution_count": 12
  },
  {
   "metadata": {
    "ExecuteTime": {
     "end_time": "2025-08-05T13:13:16.815873Z",
     "start_time": "2025-08-05T13:13:16.804525Z"
    }
   },
   "cell_type": "code",
   "source": [
    "proxmox = pd.read_csv('proxmox_processed.csv')\n",
    "proxmox.isna().sum()"
   ],
   "id": "e1974c7cd7f90eb8",
   "outputs": [
    {
     "data": {
      "text/plain": [
       "_time                   0\n",
       "inventory-server-id     0\n",
       "vm_id                   0\n",
       "cpuload                 0\n",
       "disk_free               0\n",
       "disk_total              0\n",
       "disk_used               0\n",
       "disk_used_percentage    0\n",
       "mem_free                0\n",
       "mem_total               0\n",
       "mem_used                0\n",
       "mem_used_percentage     0\n",
       "swap_free               0\n",
       "swap_total              0\n",
       "swap_used               0\n",
       "swap_used_percentage    0\n",
       "uptime                  0\n",
       "disk_free_gb            0\n",
       "disk_total_gb           0\n",
       "disk_used_gb            0\n",
       "disk_usage_percent      0\n",
       "dtype: int64"
      ]
     },
     "execution_count": 4,
     "metadata": {},
     "output_type": "execute_result"
    }
   ],
   "execution_count": 4
  },
  {
   "metadata": {
    "ExecuteTime": {
     "end_time": "2025-08-05T13:19:02.399830Z",
     "start_time": "2025-08-05T13:19:02.396051Z"
    }
   },
   "cell_type": "code",
   "source": "proxmox.columns",
   "id": "40247ee97a1132c",
   "outputs": [
    {
     "data": {
      "text/plain": [
       "Index(['_time', 'inventory-server-id', 'vm_id', 'cpuload', 'disk_free',\n",
       "       'disk_total', 'disk_used', 'disk_used_percentage', 'mem_free',\n",
       "       'mem_total', 'mem_used', 'mem_used_percentage', 'swap_free',\n",
       "       'swap_total', 'swap_used', 'swap_used_percentage', 'uptime',\n",
       "       'disk_free_gb', 'disk_total_gb', 'disk_used_gb', 'disk_usage_percent'],\n",
       "      dtype='object')"
      ]
     },
     "execution_count": 13,
     "metadata": {},
     "output_type": "execute_result"
    }
   ],
   "execution_count": 13
  },
  {
   "metadata": {
    "ExecuteTime": {
     "end_time": "2025-08-05T13:13:43.010421Z",
     "start_time": "2025-08-05T13:13:43.004333Z"
    }
   },
   "cell_type": "code",
   "source": [
    "scaph_host = pd.read_csv('host_scaphandre_processed.csv')\n",
    "scaph_host.isna().sum()"
   ],
   "id": "8476b8e1691a91ab",
   "outputs": [
    {
     "data": {
      "text/plain": [
       "_time                          0\n",
       "url                            0\n",
       "scaph_host_power_microwatts    0\n",
       "dtype: int64"
      ]
     },
     "execution_count": 5,
     "metadata": {},
     "output_type": "execute_result"
    }
   ],
   "execution_count": 5
  },
  {
   "metadata": {
    "ExecuteTime": {
     "end_time": "2025-08-05T13:19:17.398251Z",
     "start_time": "2025-08-05T13:19:17.394736Z"
    }
   },
   "cell_type": "code",
   "source": "scaph_host.columns",
   "id": "a600497ab1c9ba73",
   "outputs": [
    {
     "data": {
      "text/plain": [
       "Index(['_time', 'url', 'scaph_host_power_microwatts'], dtype='object')"
      ]
     },
     "execution_count": 14,
     "metadata": {},
     "output_type": "execute_result"
    }
   ],
   "execution_count": 14
  },
  {
   "metadata": {
    "ExecuteTime": {
     "end_time": "2025-08-05T13:16:11.443097Z",
     "start_time": "2025-08-05T13:16:11.434828Z"
    }
   },
   "cell_type": "code",
   "source": [
    "scaph_vm = pd.read_csv('vm_scaphandre_processed.csv')\n",
    "scaph_vm.isna().sum()"
   ],
   "id": "82a088abea84dda2",
   "outputs": [
    {
     "data": {
      "text/plain": [
       "_time                                         0\n",
       "url                                           0\n",
       "uuid                                          0\n",
       "vm_id                                         0\n",
       "vm_name                                       0\n",
       "scaph_process_cpu_usage_percentage            0\n",
       "scaph_process_disk_read_bytes                 0\n",
       "scaph_process_disk_total_read_bytes           0\n",
       "scaph_process_disk_total_write_bytes          0\n",
       "scaph_process_disk_write_bytes                0\n",
       "scaph_process_memory_bytes                    0\n",
       "scaph_process_memory_virtual_bytes            0\n",
       "scaph_process_power_consumption_microwatts    0\n",
       "dtype: int64"
      ]
     },
     "execution_count": 8,
     "metadata": {},
     "output_type": "execute_result"
    }
   ],
   "execution_count": 8
  },
  {
   "metadata": {
    "ExecuteTime": {
     "end_time": "2025-08-05T13:16:12.932090Z",
     "start_time": "2025-08-05T13:16:12.928385Z"
    }
   },
   "cell_type": "code",
   "source": "scaph_vm.shape",
   "id": "f8b57909ab71cda4",
   "outputs": [
    {
     "data": {
      "text/plain": [
       "(1502, 13)"
      ]
     },
     "execution_count": 9,
     "metadata": {},
     "output_type": "execute_result"
    }
   ],
   "execution_count": 9
  },
  {
   "metadata": {
    "ExecuteTime": {
     "end_time": "2025-08-05T13:19:41.359743Z",
     "start_time": "2025-08-05T13:19:41.356401Z"
    }
   },
   "cell_type": "code",
   "source": "scaph_vm.columns",
   "id": "7f6946f6e312a387",
   "outputs": [
    {
     "data": {
      "text/plain": [
       "Index(['_time', 'url', 'uuid', 'vm_id', 'vm_name',\n",
       "       'scaph_process_cpu_usage_percentage', 'scaph_process_disk_read_bytes',\n",
       "       'scaph_process_disk_total_read_bytes',\n",
       "       'scaph_process_disk_total_write_bytes',\n",
       "       'scaph_process_disk_write_bytes', 'scaph_process_memory_bytes',\n",
       "       'scaph_process_memory_virtual_bytes',\n",
       "       'scaph_process_power_consumption_microwatts'],\n",
       "      dtype='object')"
      ]
     },
     "execution_count": 15,
     "metadata": {},
     "output_type": "execute_result"
    }
   ],
   "execution_count": 15
  },
  {
   "metadata": {},
   "cell_type": "code",
   "outputs": [],
   "execution_count": null,
   "source": "",
   "id": "f8c4860dd7b3d1ad"
  }
 ],
 "metadata": {
  "kernelspec": {
   "display_name": "Python 3",
   "language": "python",
   "name": "python3"
  },
  "language_info": {
   "codemirror_mode": {
    "name": "ipython",
    "version": 2
   },
   "file_extension": ".py",
   "mimetype": "text/x-python",
   "name": "python",
   "nbconvert_exporter": "python",
   "pygments_lexer": "ipython2",
   "version": "2.7.6"
  }
 },
 "nbformat": 4,
 "nbformat_minor": 5
}
