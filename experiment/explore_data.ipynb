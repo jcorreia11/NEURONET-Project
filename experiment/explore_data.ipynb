{
 "cells": [
  {
   "metadata": {},
   "cell_type": "markdown",
   "source": "# K8s",
   "id": "bdc80dbf85b03281"
  },
  {
   "cell_type": "code",
   "id": "initial_id",
   "metadata": {
    "collapsed": true,
    "ExecuteTime": {
     "end_time": "2025-08-05T08:35:30.015936Z",
     "start_time": "2025-08-05T08:35:28.457780Z"
    }
   },
   "source": [
    "import pandas as pd\n",
    "\n",
    "k8s_data = pd.read_csv('k8s_Neuronet_20250805_090507.csv')\n",
    "k8s_data.head()"
   ],
   "outputs": [
    {
     "name": "stderr",
     "output_type": "stream",
     "text": [
      "/tmp/ipykernel_320455/3588679625.py:3: DtypeWarning: Columns (8,12,15) have mixed types. Specify dtype option on import or set low_memory=False.\n",
      "  k8s_data = pd.read_csv('k8s_Neuronet_20250805_090507.csv')\n"
     ]
    },
    {
     "data": {
      "text/plain": [
       "    result  table                     _start                      _stop  \\\n",
       "0  _result      0  2025-08-04 06:00:00+00:00  2025-08-04 11:00:00+00:00   \n",
       "1  _result      0  2025-08-04 06:00:00+00:00  2025-08-04 11:00:00+00:00   \n",
       "2  _result      0  2025-08-04 06:00:00+00:00  2025-08-04 11:00:00+00:00   \n",
       "3  _result      0  2025-08-04 06:00:00+00:00  2025-08-04 11:00:00+00:00   \n",
       "4  _result      0  2025-08-04 06:00:00+00:00  2025-08-04 11:00:00+00:00   \n",
       "\n",
       "                       _time           _value                      _field  \\\n",
       "0  2025-08-04 06:00:18+00:00  128317868697000  cpu_usage_core_nanoseconds   \n",
       "1  2025-08-04 06:01:18+00:00  128320228236000  cpu_usage_core_nanoseconds   \n",
       "2  2025-08-04 06:02:18+00:00  128322379278000  cpu_usage_core_nanoseconds   \n",
       "3  2025-08-04 06:03:18+00:00  128324770059000  cpu_usage_core_nanoseconds   \n",
       "4  2025-08-04 06:04:18+00:00  128327219166000  cpu_usage_core_nanoseconds   \n",
       "\n",
       "                 _measurement container_name inventory-cluster-id  \\\n",
       "0  computational_measurements      activator                 flux   \n",
       "1  computational_measurements      activator                 flux   \n",
       "2  computational_measurements      activator                 flux   \n",
       "3  computational_measurements      activator                 flux   \n",
       "4  computational_measurements      activator                 flux   \n",
       "\n",
       "  inventory-rack-id inventory-server-id        namespace    node_name plugin  \\\n",
       "0                r4    Neuronet-Cluster  knative-serving  neuronet-w3    k8s   \n",
       "1                r4    Neuronet-Cluster  knative-serving  neuronet-w3    k8s   \n",
       "2                r4    Neuronet-Cluster  knative-serving  neuronet-w3    k8s   \n",
       "3                r4    Neuronet-Cluster  knative-serving  neuronet-w3    k8s   \n",
       "4                r4    Neuronet-Cluster  knative-serving  neuronet-w3    k8s   \n",
       "\n",
       "                    pod_name  \n",
       "0  activator-bd5fdc585-rjnrz  \n",
       "1  activator-bd5fdc585-rjnrz  \n",
       "2  activator-bd5fdc585-rjnrz  \n",
       "3  activator-bd5fdc585-rjnrz  \n",
       "4  activator-bd5fdc585-rjnrz  "
      ],
      "text/html": [
       "<div>\n",
       "<style scoped>\n",
       "    .dataframe tbody tr th:only-of-type {\n",
       "        vertical-align: middle;\n",
       "    }\n",
       "\n",
       "    .dataframe tbody tr th {\n",
       "        vertical-align: top;\n",
       "    }\n",
       "\n",
       "    .dataframe thead th {\n",
       "        text-align: right;\n",
       "    }\n",
       "</style>\n",
       "<table border=\"1\" class=\"dataframe\">\n",
       "  <thead>\n",
       "    <tr style=\"text-align: right;\">\n",
       "      <th></th>\n",
       "      <th>result</th>\n",
       "      <th>table</th>\n",
       "      <th>_start</th>\n",
       "      <th>_stop</th>\n",
       "      <th>_time</th>\n",
       "      <th>_value</th>\n",
       "      <th>_field</th>\n",
       "      <th>_measurement</th>\n",
       "      <th>container_name</th>\n",
       "      <th>inventory-cluster-id</th>\n",
       "      <th>inventory-rack-id</th>\n",
       "      <th>inventory-server-id</th>\n",
       "      <th>namespace</th>\n",
       "      <th>node_name</th>\n",
       "      <th>plugin</th>\n",
       "      <th>pod_name</th>\n",
       "    </tr>\n",
       "  </thead>\n",
       "  <tbody>\n",
       "    <tr>\n",
       "      <th>0</th>\n",
       "      <td>_result</td>\n",
       "      <td>0</td>\n",
       "      <td>2025-08-04 06:00:00+00:00</td>\n",
       "      <td>2025-08-04 11:00:00+00:00</td>\n",
       "      <td>2025-08-04 06:00:18+00:00</td>\n",
       "      <td>128317868697000</td>\n",
       "      <td>cpu_usage_core_nanoseconds</td>\n",
       "      <td>computational_measurements</td>\n",
       "      <td>activator</td>\n",
       "      <td>flux</td>\n",
       "      <td>r4</td>\n",
       "      <td>Neuronet-Cluster</td>\n",
       "      <td>knative-serving</td>\n",
       "      <td>neuronet-w3</td>\n",
       "      <td>k8s</td>\n",
       "      <td>activator-bd5fdc585-rjnrz</td>\n",
       "    </tr>\n",
       "    <tr>\n",
       "      <th>1</th>\n",
       "      <td>_result</td>\n",
       "      <td>0</td>\n",
       "      <td>2025-08-04 06:00:00+00:00</td>\n",
       "      <td>2025-08-04 11:00:00+00:00</td>\n",
       "      <td>2025-08-04 06:01:18+00:00</td>\n",
       "      <td>128320228236000</td>\n",
       "      <td>cpu_usage_core_nanoseconds</td>\n",
       "      <td>computational_measurements</td>\n",
       "      <td>activator</td>\n",
       "      <td>flux</td>\n",
       "      <td>r4</td>\n",
       "      <td>Neuronet-Cluster</td>\n",
       "      <td>knative-serving</td>\n",
       "      <td>neuronet-w3</td>\n",
       "      <td>k8s</td>\n",
       "      <td>activator-bd5fdc585-rjnrz</td>\n",
       "    </tr>\n",
       "    <tr>\n",
       "      <th>2</th>\n",
       "      <td>_result</td>\n",
       "      <td>0</td>\n",
       "      <td>2025-08-04 06:00:00+00:00</td>\n",
       "      <td>2025-08-04 11:00:00+00:00</td>\n",
       "      <td>2025-08-04 06:02:18+00:00</td>\n",
       "      <td>128322379278000</td>\n",
       "      <td>cpu_usage_core_nanoseconds</td>\n",
       "      <td>computational_measurements</td>\n",
       "      <td>activator</td>\n",
       "      <td>flux</td>\n",
       "      <td>r4</td>\n",
       "      <td>Neuronet-Cluster</td>\n",
       "      <td>knative-serving</td>\n",
       "      <td>neuronet-w3</td>\n",
       "      <td>k8s</td>\n",
       "      <td>activator-bd5fdc585-rjnrz</td>\n",
       "    </tr>\n",
       "    <tr>\n",
       "      <th>3</th>\n",
       "      <td>_result</td>\n",
       "      <td>0</td>\n",
       "      <td>2025-08-04 06:00:00+00:00</td>\n",
       "      <td>2025-08-04 11:00:00+00:00</td>\n",
       "      <td>2025-08-04 06:03:18+00:00</td>\n",
       "      <td>128324770059000</td>\n",
       "      <td>cpu_usage_core_nanoseconds</td>\n",
       "      <td>computational_measurements</td>\n",
       "      <td>activator</td>\n",
       "      <td>flux</td>\n",
       "      <td>r4</td>\n",
       "      <td>Neuronet-Cluster</td>\n",
       "      <td>knative-serving</td>\n",
       "      <td>neuronet-w3</td>\n",
       "      <td>k8s</td>\n",
       "      <td>activator-bd5fdc585-rjnrz</td>\n",
       "    </tr>\n",
       "    <tr>\n",
       "      <th>4</th>\n",
       "      <td>_result</td>\n",
       "      <td>0</td>\n",
       "      <td>2025-08-04 06:00:00+00:00</td>\n",
       "      <td>2025-08-04 11:00:00+00:00</td>\n",
       "      <td>2025-08-04 06:04:18+00:00</td>\n",
       "      <td>128327219166000</td>\n",
       "      <td>cpu_usage_core_nanoseconds</td>\n",
       "      <td>computational_measurements</td>\n",
       "      <td>activator</td>\n",
       "      <td>flux</td>\n",
       "      <td>r4</td>\n",
       "      <td>Neuronet-Cluster</td>\n",
       "      <td>knative-serving</td>\n",
       "      <td>neuronet-w3</td>\n",
       "      <td>k8s</td>\n",
       "      <td>activator-bd5fdc585-rjnrz</td>\n",
       "    </tr>\n",
       "  </tbody>\n",
       "</table>\n",
       "</div>"
      ]
     },
     "execution_count": 34,
     "metadata": {},
     "output_type": "execute_result"
    }
   ],
   "execution_count": 34
  },
  {
   "metadata": {
    "ExecuteTime": {
     "end_time": "2025-08-05T08:35:30.132272Z",
     "start_time": "2025-08-05T08:35:30.130002Z"
    }
   },
   "cell_type": "code",
   "source": "k8s_data.shape",
   "id": "e098c2a44c561a76",
   "outputs": [
    {
     "data": {
      "text/plain": [
       "(975252, 16)"
      ]
     },
     "execution_count": 35,
     "metadata": {},
     "output_type": "execute_result"
    }
   ],
   "execution_count": 35
  },
  {
   "metadata": {
    "ExecuteTime": {
     "end_time": "2025-08-05T08:35:30.208653Z",
     "start_time": "2025-08-05T08:35:30.205562Z"
    }
   },
   "cell_type": "code",
   "source": "k8s_data.columns",
   "id": "870a09017928d876",
   "outputs": [
    {
     "data": {
      "text/plain": [
       "Index(['result', 'table', '_start', '_stop', '_time', '_value', '_field',\n",
       "       '_measurement', 'container_name', 'inventory-cluster-id',\n",
       "       'inventory-rack-id', 'inventory-server-id', 'namespace', 'node_name',\n",
       "       'plugin', 'pod_name'],\n",
       "      dtype='object')"
      ]
     },
     "execution_count": 36,
     "metadata": {},
     "output_type": "execute_result"
    }
   ],
   "execution_count": 36
  },
  {
   "metadata": {},
   "cell_type": "markdown",
   "source": [
    "## Columns\n",
    "\n",
    "- 'result': column with only one value '_result' - REMOVE\n",
    "- 'table': column with values from 0 to 3303 - NOT SURE HOW RELEVANT IT IS - REMOVE\n",
    "- '_start': column with timestamps, only one value ('2025-08-04 06:00:00+00:00') - REMOVE\n",
    "- '_stop': column with timestamps, only one value ('2025-08-04 11:00:00+00:00') - REMOVE\n",
    "- '_time': column with timestamps, values from '2025-08-04 06:00:00+00:00' to '2025-08-04 11:00:00+00:00' second by second - KEEP\n",
    "- '_value': column with values from the '_field' column, values are floats - KEEP\n",
    "- '_field': column with names of the metrics ({'available_bytes', 'capacity_bytes', 'cpu_usage_core_nanoseconds', 'cpu_usage_nanocores',\n",
    "'fs_available_bytes', 'fs_capacity_bytes', 'fs_used_bytes', 'logsfs_available_bytes', 'logsfs_capacity_bytes', 'logsfs_used_bytes', 'memory_available_bytes',\n",
    "'memory_major_page_faults', 'memory_page_faults', 'memory_rss_bytes', 'memory_usage_bytes', 'memory_working_set_bytes', 'network_rx_bytes',\n",
    "'network_rx_errors', 'network_tx_bytes', 'network_tx_errors', 'rootfs_available_bytes', 'rootfs_capacity_bytes', 'rootfs_used_bytes',\n",
    "'runtime_image_fs_available_bytes', 'runtime_image_fs_capacity_bytes', 'runtime_image_fs_used_bytes', 'rx_bytes', 'rx_errors', 'tx_bytes', 'tx_errors', 'used_bytes'}) - KEEP\n",
    "- '_measurement': column with only one value: 'computational_measurements' - REMOVE\n",
    "- 'container_name': column with container names, some values are NaN - KEEP but REMOVE rows with NaN\n",
    "- 'inventory-cluster-id': column with the only one value: 'flux' - REMOVE\n",
    "- 'inventory-rack-id': column with the only one value: 'r4' - REMOVE\n",
    "- 'inventory-server-id': columns with only one value: 'Neuronet-Cluster' - REMOVE\n",
    "- 'namespace': column with namespaces, values are:  {'auth', 'cert-manager', 'cluster-network-addons', 'default', 'istio-system', 'knative-eventing', 'knative-serving',\n",
    "'kserve', 'kube-flannel', 'kube-system', 'kubeflow', 'kubeflow-user-example-com', 'openebs', 'optimiter'} - KEEP\n",
    "- 'node_name': column with node names, values are: {'neuronet-m1', 'neuronet-m2', 'neuronet-m3', 'neuronet-w1', 'neuronet-w2', 'neuronet-w3'} - KEEP\n",
    "- 'plugin': column with only one value: 'k8s' - REMOVE\n",
    "- 'pod_name': column with pod names, some values are NaN - KEEP but REMOVE rows with NaN"
   ],
   "id": "93d4ebc3eb34ffaf"
  },
  {
   "metadata": {
    "ExecuteTime": {
     "end_time": "2025-08-05T08:39:52.148896Z",
     "start_time": "2025-08-05T08:39:51.930128Z"
    }
   },
   "cell_type": "code",
   "source": [
    "k8s_data = k8s_data.drop(columns=['result', 'table', '_start', '_stop', '_measurement', 'inventory-cluster-id', 'inventory-rack-id', 'inventory-server-id', 'plugin'])\n",
    "# remove rows with nan\n",
    "k8s_data = k8s_data[k8s_data['container_name'].notna()]\n",
    "k8s_data = k8s_data[k8s_data['pod_name'].notna()]\n",
    "# count nans\n",
    "k8s_data.isna().sum()"
   ],
   "id": "e28dc45fea7bc25a",
   "outputs": [
    {
     "data": {
      "text/plain": [
       "_time             0\n",
       "_value            0\n",
       "_field            0\n",
       "container_name    0\n",
       "namespace         0\n",
       "node_name         0\n",
       "pod_name          0\n",
       "dtype: int64"
      ]
     },
     "execution_count": 41,
     "metadata": {},
     "output_type": "execute_result"
    }
   ],
   "execution_count": 41
  },
  {
   "metadata": {
    "ExecuteTime": {
     "end_time": "2025-08-05T08:40:26.659483Z",
     "start_time": "2025-08-05T08:40:26.655863Z"
    }
   },
   "cell_type": "code",
   "source": "k8s_data.shape",
   "id": "f93c8cfa2eac16f2",
   "outputs": [
    {
     "data": {
      "text/plain": [
       "(659438, 7)"
      ]
     },
     "execution_count": 42,
     "metadata": {},
     "output_type": "execute_result"
    }
   ],
   "execution_count": 42
  },
  {
   "metadata": {},
   "cell_type": "markdown",
   "source": "# Kepler",
   "id": "d565bfe2cc6a2e6b"
  },
  {
   "metadata": {
    "ExecuteTime": {
     "end_time": "2025-08-05T09:45:31.203809Z",
     "start_time": "2025-08-05T09:45:31.169717Z"
    }
   },
   "cell_type": "code",
   "source": [
    "kepler = pd.read_csv('kepler_Neuronet_20250805_090528.csv')\n",
    "kepler.head()"
   ],
   "id": "9ee3be29d3f7a1ec",
   "outputs": [
    {
     "data": {
      "text/plain": [
       "    result  table                     _start                      _stop  \\\n",
       "0  _result      0  2025-08-04 06:00:00+00:00  2025-08-04 11:00:00+00:00   \n",
       "1  _result      0  2025-08-04 06:00:00+00:00  2025-08-04 11:00:00+00:00   \n",
       "2  _result      0  2025-08-04 06:00:00+00:00  2025-08-04 11:00:00+00:00   \n",
       "3  _result      0  2025-08-04 06:00:00+00:00  2025-08-04 11:00:00+00:00   \n",
       "4  _result      0  2025-08-04 06:00:00+00:00  2025-08-04 11:00:00+00:00   \n",
       "\n",
       "                       _time    _value                         _field  \\\n",
       "0  2025-08-04 06:00:00+00:00  8839.443  kepler_container_joules_total   \n",
       "1  2025-08-04 06:01:00+00:00  8839.443  kepler_container_joules_total   \n",
       "2  2025-08-04 06:02:00+00:00  8839.443  kepler_container_joules_total   \n",
       "3  2025-08-04 06:03:00+00:00  8839.443  kepler_container_joules_total   \n",
       "4  2025-08-04 06:04:00+00:00  8839.443  kepler_container_joules_total   \n",
       "\n",
       "          _measurement                                       container_id  \\\n",
       "0  energy_measurements  14bc8c204d73135d6e65e27faaad06614517929ed9b27f...   \n",
       "1  energy_measurements  14bc8c204d73135d6e65e27faaad06614517929ed9b27f...   \n",
       "2  energy_measurements  14bc8c204d73135d6e65e27faaad06614517929ed9b27f...   \n",
       "3  energy_measurements  14bc8c204d73135d6e65e27faaad06614517929ed9b27f...   \n",
       "4  energy_measurements  14bc8c204d73135d6e65e27faaad06614517929ed9b27f...   \n",
       "\n",
       "   container_name inventory-cluster-id inventory-rack-id inventory-server-id  \\\n",
       "0  kube-scheduler                 flux                r4    Neuronet-Cluster   \n",
       "1  kube-scheduler                 flux                r4    Neuronet-Cluster   \n",
       "2  kube-scheduler                 flux                r4    Neuronet-Cluster   \n",
       "3  kube-scheduler                 flux                r4    Neuronet-Cluster   \n",
       "4  kube-scheduler                 flux                r4    Neuronet-Cluster   \n",
       "\n",
       "     namespace  plugin                    pod_name  \\\n",
       "0  kube-system  kepler  kube-scheduler-neuronet-m1   \n",
       "1  kube-system  kepler  kube-scheduler-neuronet-m1   \n",
       "2  kube-system  kepler  kube-scheduler-neuronet-m1   \n",
       "3  kube-system  kepler  kube-scheduler-neuronet-m1   \n",
       "4  kube-system  kepler  kube-scheduler-neuronet-m1   \n",
       "\n",
       "                                url  \n",
       "0  http://10.255.40.9:30118/metrics  \n",
       "1  http://10.255.40.9:30118/metrics  \n",
       "2  http://10.255.40.9:30118/metrics  \n",
       "3  http://10.255.40.9:30118/metrics  \n",
       "4  http://10.255.40.9:30118/metrics  "
      ],
      "text/html": [
       "<div>\n",
       "<style scoped>\n",
       "    .dataframe tbody tr th:only-of-type {\n",
       "        vertical-align: middle;\n",
       "    }\n",
       "\n",
       "    .dataframe tbody tr th {\n",
       "        vertical-align: top;\n",
       "    }\n",
       "\n",
       "    .dataframe thead th {\n",
       "        text-align: right;\n",
       "    }\n",
       "</style>\n",
       "<table border=\"1\" class=\"dataframe\">\n",
       "  <thead>\n",
       "    <tr style=\"text-align: right;\">\n",
       "      <th></th>\n",
       "      <th>result</th>\n",
       "      <th>table</th>\n",
       "      <th>_start</th>\n",
       "      <th>_stop</th>\n",
       "      <th>_time</th>\n",
       "      <th>_value</th>\n",
       "      <th>_field</th>\n",
       "      <th>_measurement</th>\n",
       "      <th>container_id</th>\n",
       "      <th>container_name</th>\n",
       "      <th>inventory-cluster-id</th>\n",
       "      <th>inventory-rack-id</th>\n",
       "      <th>inventory-server-id</th>\n",
       "      <th>namespace</th>\n",
       "      <th>plugin</th>\n",
       "      <th>pod_name</th>\n",
       "      <th>url</th>\n",
       "    </tr>\n",
       "  </thead>\n",
       "  <tbody>\n",
       "    <tr>\n",
       "      <th>0</th>\n",
       "      <td>_result</td>\n",
       "      <td>0</td>\n",
       "      <td>2025-08-04 06:00:00+00:00</td>\n",
       "      <td>2025-08-04 11:00:00+00:00</td>\n",
       "      <td>2025-08-04 06:00:00+00:00</td>\n",
       "      <td>8839.443</td>\n",
       "      <td>kepler_container_joules_total</td>\n",
       "      <td>energy_measurements</td>\n",
       "      <td>14bc8c204d73135d6e65e27faaad06614517929ed9b27f...</td>\n",
       "      <td>kube-scheduler</td>\n",
       "      <td>flux</td>\n",
       "      <td>r4</td>\n",
       "      <td>Neuronet-Cluster</td>\n",
       "      <td>kube-system</td>\n",
       "      <td>kepler</td>\n",
       "      <td>kube-scheduler-neuronet-m1</td>\n",
       "      <td>http://10.255.40.9:30118/metrics</td>\n",
       "    </tr>\n",
       "    <tr>\n",
       "      <th>1</th>\n",
       "      <td>_result</td>\n",
       "      <td>0</td>\n",
       "      <td>2025-08-04 06:00:00+00:00</td>\n",
       "      <td>2025-08-04 11:00:00+00:00</td>\n",
       "      <td>2025-08-04 06:01:00+00:00</td>\n",
       "      <td>8839.443</td>\n",
       "      <td>kepler_container_joules_total</td>\n",
       "      <td>energy_measurements</td>\n",
       "      <td>14bc8c204d73135d6e65e27faaad06614517929ed9b27f...</td>\n",
       "      <td>kube-scheduler</td>\n",
       "      <td>flux</td>\n",
       "      <td>r4</td>\n",
       "      <td>Neuronet-Cluster</td>\n",
       "      <td>kube-system</td>\n",
       "      <td>kepler</td>\n",
       "      <td>kube-scheduler-neuronet-m1</td>\n",
       "      <td>http://10.255.40.9:30118/metrics</td>\n",
       "    </tr>\n",
       "    <tr>\n",
       "      <th>2</th>\n",
       "      <td>_result</td>\n",
       "      <td>0</td>\n",
       "      <td>2025-08-04 06:00:00+00:00</td>\n",
       "      <td>2025-08-04 11:00:00+00:00</td>\n",
       "      <td>2025-08-04 06:02:00+00:00</td>\n",
       "      <td>8839.443</td>\n",
       "      <td>kepler_container_joules_total</td>\n",
       "      <td>energy_measurements</td>\n",
       "      <td>14bc8c204d73135d6e65e27faaad06614517929ed9b27f...</td>\n",
       "      <td>kube-scheduler</td>\n",
       "      <td>flux</td>\n",
       "      <td>r4</td>\n",
       "      <td>Neuronet-Cluster</td>\n",
       "      <td>kube-system</td>\n",
       "      <td>kepler</td>\n",
       "      <td>kube-scheduler-neuronet-m1</td>\n",
       "      <td>http://10.255.40.9:30118/metrics</td>\n",
       "    </tr>\n",
       "    <tr>\n",
       "      <th>3</th>\n",
       "      <td>_result</td>\n",
       "      <td>0</td>\n",
       "      <td>2025-08-04 06:00:00+00:00</td>\n",
       "      <td>2025-08-04 11:00:00+00:00</td>\n",
       "      <td>2025-08-04 06:03:00+00:00</td>\n",
       "      <td>8839.443</td>\n",
       "      <td>kepler_container_joules_total</td>\n",
       "      <td>energy_measurements</td>\n",
       "      <td>14bc8c204d73135d6e65e27faaad06614517929ed9b27f...</td>\n",
       "      <td>kube-scheduler</td>\n",
       "      <td>flux</td>\n",
       "      <td>r4</td>\n",
       "      <td>Neuronet-Cluster</td>\n",
       "      <td>kube-system</td>\n",
       "      <td>kepler</td>\n",
       "      <td>kube-scheduler-neuronet-m1</td>\n",
       "      <td>http://10.255.40.9:30118/metrics</td>\n",
       "    </tr>\n",
       "    <tr>\n",
       "      <th>4</th>\n",
       "      <td>_result</td>\n",
       "      <td>0</td>\n",
       "      <td>2025-08-04 06:00:00+00:00</td>\n",
       "      <td>2025-08-04 11:00:00+00:00</td>\n",
       "      <td>2025-08-04 06:04:00+00:00</td>\n",
       "      <td>8839.443</td>\n",
       "      <td>kepler_container_joules_total</td>\n",
       "      <td>energy_measurements</td>\n",
       "      <td>14bc8c204d73135d6e65e27faaad06614517929ed9b27f...</td>\n",
       "      <td>kube-scheduler</td>\n",
       "      <td>flux</td>\n",
       "      <td>r4</td>\n",
       "      <td>Neuronet-Cluster</td>\n",
       "      <td>kube-system</td>\n",
       "      <td>kepler</td>\n",
       "      <td>kube-scheduler-neuronet-m1</td>\n",
       "      <td>http://10.255.40.9:30118/metrics</td>\n",
       "    </tr>\n",
       "  </tbody>\n",
       "</table>\n",
       "</div>"
      ]
     },
     "execution_count": 75,
     "metadata": {},
     "output_type": "execute_result"
    }
   ],
   "execution_count": 75
  },
  {
   "metadata": {
    "ExecuteTime": {
     "end_time": "2025-08-05T09:45:31.752375Z",
     "start_time": "2025-08-05T09:45:31.748683Z"
    }
   },
   "cell_type": "code",
   "source": "kepler.shape",
   "id": "46d960e49320f99c",
   "outputs": [
    {
     "data": {
      "text/plain": [
       "(12496, 17)"
      ]
     },
     "execution_count": 76,
     "metadata": {},
     "output_type": "execute_result"
    }
   ],
   "execution_count": 76
  },
  {
   "metadata": {
    "ExecuteTime": {
     "end_time": "2025-08-05T09:45:32.360292Z",
     "start_time": "2025-08-05T09:45:32.356585Z"
    }
   },
   "cell_type": "code",
   "source": "kepler.columns",
   "id": "545444d0156779fc",
   "outputs": [
    {
     "data": {
      "text/plain": [
       "Index(['result', 'table', '_start', '_stop', '_time', '_value', '_field',\n",
       "       '_measurement', 'container_id', 'container_name',\n",
       "       'inventory-cluster-id', 'inventory-rack-id', 'inventory-server-id',\n",
       "       'namespace', 'plugin', 'pod_name', 'url'],\n",
       "      dtype='object')"
      ]
     },
     "execution_count": 77,
     "metadata": {},
     "output_type": "execute_result"
    }
   ],
   "execution_count": 77
  },
  {
   "metadata": {},
   "cell_type": "markdown",
   "source": [
    "## Columns\n",
    "\n",
    "- 'result': column with only one value '_result' - REMOVE\n",
    "- 'table': column with values from 0 to 41 - NOT SURE HOW RELEVANT IT IS - REMOVE\n",
    "- '_start': column with timestamps, only one value ('2025-08-04 06:00:00+00:00') - REMOVE\n",
    "- '_stop': column with timestamps, only one value ('2025-08-04 11:00:00+00:00') - REMOVE\n",
    "- '_time': column with timestamps, values from '2025-08-04 06:00:00+00:00' to '2025-08-04 11:00:00+00:00' second by second - KEEP\n",
    "- '_value': column with values from the '_field' column, values are floats - KEEP\n",
    "- '_field': column with names of the metrics ({'kepler_container_joules_total', 'kepler_container_microwatts_consumption_total'} - KEEP\n",
    "- '_measurement': column with only one value: 'energy_measurements' - REMOVE\n",
    "- 'container_id': column with container IDs - KEEP\n",
    "- 'container_name': column with container names - KEEP\n",
    "- 'inventory-cluster-id': column with the only one value: 'flux' - REMOVE\n",
    "- 'inventory-rack-id': column with the only one value: 'r4' - REMOVE\n",
    "- 'inventory-server-id': columns with only one value: 'Neuronet-Cluster' - REMOVE\n",
    "- 'namespace': column with namespaces, values are:  {'cluster-network-addons', 'kernel', 'kube-flannel', 'kube-system', 'optimiter', 'system'} - KEEP\n",
    "- 'plugin': column with only one value: 'kepler' - REMOVE\n",
    "- 'pod_name': column with pod names - KEEP\n",
    "- 'url': column with URLs. Only one value: {'http://10.255.40.9:30118/metrics'} - REMOVE"
   ],
   "id": "2381425bad8c9d50"
  },
  {
   "metadata": {
    "ExecuteTime": {
     "end_time": "2025-08-05T09:45:19.216983Z",
     "start_time": "2025-08-05T09:45:19.213372Z"
    }
   },
   "cell_type": "code",
   "source": "kepler = kepler.drop(columns=['result', 'table', '_start', '_stop', '_measurement', 'inventory-cluster-id', 'inventory-rack-id', 'inventory-server-id', 'plugin', 'url'])",
   "id": "8829667635a37e69",
   "outputs": [],
   "execution_count": 74
  },
  {
   "metadata": {
    "ExecuteTime": {
     "end_time": "2025-08-05T09:31:16.768081Z",
     "start_time": "2025-08-05T09:31:16.761534Z"
    }
   },
   "cell_type": "code",
   "source": "kepler.isna().sum()",
   "id": "e7bcb7e49d3a0363",
   "outputs": [
    {
     "data": {
      "text/plain": [
       "_time             0\n",
       "_value            0\n",
       "_field            0\n",
       "container_id      0\n",
       "container_name    0\n",
       "namespace         0\n",
       "pod_name          0\n",
       "dtype: int64"
      ]
     },
     "execution_count": 61,
     "metadata": {},
     "output_type": "execute_result"
    }
   ],
   "execution_count": 61
  },
  {
   "metadata": {},
   "cell_type": "markdown",
   "source": "# PDU",
   "id": "faf3d5e6e58782d2"
  },
  {
   "metadata": {
    "ExecuteTime": {
     "end_time": "2025-08-05T09:49:37.651518Z",
     "start_time": "2025-08-05T09:49:37.597958Z"
    }
   },
   "cell_type": "code",
   "source": [
    "pdu1 = pd.read_csv('pdu_flux-node1_20250805_090211.csv')\n",
    "pdu3 = pd.read_csv('pdu_flux-node3_20250805_090214.csv')\n",
    "pdu4 = pd.read_csv('pdu_flux-node4_20250805_090217.csv')\n",
    "pdu5 = pd.read_csv('pdu_flux-node5_20250805_090219.csv')"
   ],
   "id": "8f34793358ae7dcb",
   "outputs": [],
   "execution_count": 94
  },
  {
   "metadata": {
    "ExecuteTime": {
     "end_time": "2025-08-05T09:49:37.987881Z",
     "start_time": "2025-08-05T09:49:37.980066Z"
    }
   },
   "cell_type": "code",
   "source": "pdu1.head()",
   "id": "f0bfc37ada627f9c",
   "outputs": [
    {
     "data": {
      "text/plain": [
       "    result  table                     _start                      _stop  \\\n",
       "0  _result      0  2025-08-04 06:00:00+00:00  2025-08-04 11:00:00+00:00   \n",
       "1  _result      0  2025-08-04 06:00:00+00:00  2025-08-04 11:00:00+00:00   \n",
       "2  _result      0  2025-08-04 06:00:00+00:00  2025-08-04 11:00:00+00:00   \n",
       "3  _result      0  2025-08-04 06:00:00+00:00  2025-08-04 11:00:00+00:00   \n",
       "4  _result      0  2025-08-04 06:00:00+00:00  2025-08-04 11:00:00+00:00   \n",
       "\n",
       "                       _time  _value       _field         _measurement  \\\n",
       "0  2025-08-04 06:00:31+00:00  67.001  activePower  energy_measurements   \n",
       "1  2025-08-04 06:01:03+00:00  71.235  activePower  energy_measurements   \n",
       "2  2025-08-04 06:01:32+00:00  66.615  activePower  energy_measurements   \n",
       "3  2025-08-04 06:02:03+00:00  66.361  activePower  energy_measurements   \n",
       "4  2025-08-04 06:02:33+00:00  66.659  activePower  energy_measurements   \n",
       "\n",
       "  inventory-rack-id inventory-server-id placement plugin  \\\n",
       "0                r4          flux-node1      left    pdu   \n",
       "1                r4          flux-node1      left    pdu   \n",
       "2                r4          flux-node1      left    pdu   \n",
       "3                r4          flux-node1      left    pdu   \n",
       "4                r4          flux-node1      left    pdu   \n",
       "\n",
       "                                                 url  \n",
       "0  https://192.168.88.145/rest/mbdetnrs/2.0/power...  \n",
       "1  https://192.168.88.145/rest/mbdetnrs/2.0/power...  \n",
       "2  https://192.168.88.145/rest/mbdetnrs/2.0/power...  \n",
       "3  https://192.168.88.145/rest/mbdetnrs/2.0/power...  \n",
       "4  https://192.168.88.145/rest/mbdetnrs/2.0/power...  "
      ],
      "text/html": [
       "<div>\n",
       "<style scoped>\n",
       "    .dataframe tbody tr th:only-of-type {\n",
       "        vertical-align: middle;\n",
       "    }\n",
       "\n",
       "    .dataframe tbody tr th {\n",
       "        vertical-align: top;\n",
       "    }\n",
       "\n",
       "    .dataframe thead th {\n",
       "        text-align: right;\n",
       "    }\n",
       "</style>\n",
       "<table border=\"1\" class=\"dataframe\">\n",
       "  <thead>\n",
       "    <tr style=\"text-align: right;\">\n",
       "      <th></th>\n",
       "      <th>result</th>\n",
       "      <th>table</th>\n",
       "      <th>_start</th>\n",
       "      <th>_stop</th>\n",
       "      <th>_time</th>\n",
       "      <th>_value</th>\n",
       "      <th>_field</th>\n",
       "      <th>_measurement</th>\n",
       "      <th>inventory-rack-id</th>\n",
       "      <th>inventory-server-id</th>\n",
       "      <th>placement</th>\n",
       "      <th>plugin</th>\n",
       "      <th>url</th>\n",
       "    </tr>\n",
       "  </thead>\n",
       "  <tbody>\n",
       "    <tr>\n",
       "      <th>0</th>\n",
       "      <td>_result</td>\n",
       "      <td>0</td>\n",
       "      <td>2025-08-04 06:00:00+00:00</td>\n",
       "      <td>2025-08-04 11:00:00+00:00</td>\n",
       "      <td>2025-08-04 06:00:31+00:00</td>\n",
       "      <td>67.001</td>\n",
       "      <td>activePower</td>\n",
       "      <td>energy_measurements</td>\n",
       "      <td>r4</td>\n",
       "      <td>flux-node1</td>\n",
       "      <td>left</td>\n",
       "      <td>pdu</td>\n",
       "      <td>https://192.168.88.145/rest/mbdetnrs/2.0/power...</td>\n",
       "    </tr>\n",
       "    <tr>\n",
       "      <th>1</th>\n",
       "      <td>_result</td>\n",
       "      <td>0</td>\n",
       "      <td>2025-08-04 06:00:00+00:00</td>\n",
       "      <td>2025-08-04 11:00:00+00:00</td>\n",
       "      <td>2025-08-04 06:01:03+00:00</td>\n",
       "      <td>71.235</td>\n",
       "      <td>activePower</td>\n",
       "      <td>energy_measurements</td>\n",
       "      <td>r4</td>\n",
       "      <td>flux-node1</td>\n",
       "      <td>left</td>\n",
       "      <td>pdu</td>\n",
       "      <td>https://192.168.88.145/rest/mbdetnrs/2.0/power...</td>\n",
       "    </tr>\n",
       "    <tr>\n",
       "      <th>2</th>\n",
       "      <td>_result</td>\n",
       "      <td>0</td>\n",
       "      <td>2025-08-04 06:00:00+00:00</td>\n",
       "      <td>2025-08-04 11:00:00+00:00</td>\n",
       "      <td>2025-08-04 06:01:32+00:00</td>\n",
       "      <td>66.615</td>\n",
       "      <td>activePower</td>\n",
       "      <td>energy_measurements</td>\n",
       "      <td>r4</td>\n",
       "      <td>flux-node1</td>\n",
       "      <td>left</td>\n",
       "      <td>pdu</td>\n",
       "      <td>https://192.168.88.145/rest/mbdetnrs/2.0/power...</td>\n",
       "    </tr>\n",
       "    <tr>\n",
       "      <th>3</th>\n",
       "      <td>_result</td>\n",
       "      <td>0</td>\n",
       "      <td>2025-08-04 06:00:00+00:00</td>\n",
       "      <td>2025-08-04 11:00:00+00:00</td>\n",
       "      <td>2025-08-04 06:02:03+00:00</td>\n",
       "      <td>66.361</td>\n",
       "      <td>activePower</td>\n",
       "      <td>energy_measurements</td>\n",
       "      <td>r4</td>\n",
       "      <td>flux-node1</td>\n",
       "      <td>left</td>\n",
       "      <td>pdu</td>\n",
       "      <td>https://192.168.88.145/rest/mbdetnrs/2.0/power...</td>\n",
       "    </tr>\n",
       "    <tr>\n",
       "      <th>4</th>\n",
       "      <td>_result</td>\n",
       "      <td>0</td>\n",
       "      <td>2025-08-04 06:00:00+00:00</td>\n",
       "      <td>2025-08-04 11:00:00+00:00</td>\n",
       "      <td>2025-08-04 06:02:33+00:00</td>\n",
       "      <td>66.659</td>\n",
       "      <td>activePower</td>\n",
       "      <td>energy_measurements</td>\n",
       "      <td>r4</td>\n",
       "      <td>flux-node1</td>\n",
       "      <td>left</td>\n",
       "      <td>pdu</td>\n",
       "      <td>https://192.168.88.145/rest/mbdetnrs/2.0/power...</td>\n",
       "    </tr>\n",
       "  </tbody>\n",
       "</table>\n",
       "</div>"
      ]
     },
     "execution_count": 95,
     "metadata": {},
     "output_type": "execute_result"
    }
   ],
   "execution_count": 95
  },
  {
   "metadata": {
    "ExecuteTime": {
     "end_time": "2025-08-05T09:49:38.480174Z",
     "start_time": "2025-08-05T09:49:38.476238Z"
    }
   },
   "cell_type": "code",
   "source": [
    "# combine pdu1, pdu3, pdu4, pdu5 into one dataframe\n",
    "pdu = pd.concat([pdu1, pdu3, pdu4, pdu5], ignore_index=True)"
   ],
   "id": "4609c2661a3a1b67",
   "outputs": [],
   "execution_count": 96
  },
  {
   "metadata": {
    "ExecuteTime": {
     "end_time": "2025-08-05T09:49:39.016842Z",
     "start_time": "2025-08-05T09:49:39.008581Z"
    }
   },
   "cell_type": "code",
   "source": "pdu.head()",
   "id": "13d7d973608b46b4",
   "outputs": [
    {
     "data": {
      "text/plain": [
       "    result  table                     _start                      _stop  \\\n",
       "0  _result      0  2025-08-04 06:00:00+00:00  2025-08-04 11:00:00+00:00   \n",
       "1  _result      0  2025-08-04 06:00:00+00:00  2025-08-04 11:00:00+00:00   \n",
       "2  _result      0  2025-08-04 06:00:00+00:00  2025-08-04 11:00:00+00:00   \n",
       "3  _result      0  2025-08-04 06:00:00+00:00  2025-08-04 11:00:00+00:00   \n",
       "4  _result      0  2025-08-04 06:00:00+00:00  2025-08-04 11:00:00+00:00   \n",
       "\n",
       "                       _time  _value       _field         _measurement  \\\n",
       "0  2025-08-04 06:00:31+00:00  67.001  activePower  energy_measurements   \n",
       "1  2025-08-04 06:01:03+00:00  71.235  activePower  energy_measurements   \n",
       "2  2025-08-04 06:01:32+00:00  66.615  activePower  energy_measurements   \n",
       "3  2025-08-04 06:02:03+00:00  66.361  activePower  energy_measurements   \n",
       "4  2025-08-04 06:02:33+00:00  66.659  activePower  energy_measurements   \n",
       "\n",
       "  inventory-rack-id inventory-server-id placement plugin  \\\n",
       "0                r4          flux-node1      left    pdu   \n",
       "1                r4          flux-node1      left    pdu   \n",
       "2                r4          flux-node1      left    pdu   \n",
       "3                r4          flux-node1      left    pdu   \n",
       "4                r4          flux-node1      left    pdu   \n",
       "\n",
       "                                                 url  \n",
       "0  https://192.168.88.145/rest/mbdetnrs/2.0/power...  \n",
       "1  https://192.168.88.145/rest/mbdetnrs/2.0/power...  \n",
       "2  https://192.168.88.145/rest/mbdetnrs/2.0/power...  \n",
       "3  https://192.168.88.145/rest/mbdetnrs/2.0/power...  \n",
       "4  https://192.168.88.145/rest/mbdetnrs/2.0/power...  "
      ],
      "text/html": [
       "<div>\n",
       "<style scoped>\n",
       "    .dataframe tbody tr th:only-of-type {\n",
       "        vertical-align: middle;\n",
       "    }\n",
       "\n",
       "    .dataframe tbody tr th {\n",
       "        vertical-align: top;\n",
       "    }\n",
       "\n",
       "    .dataframe thead th {\n",
       "        text-align: right;\n",
       "    }\n",
       "</style>\n",
       "<table border=\"1\" class=\"dataframe\">\n",
       "  <thead>\n",
       "    <tr style=\"text-align: right;\">\n",
       "      <th></th>\n",
       "      <th>result</th>\n",
       "      <th>table</th>\n",
       "      <th>_start</th>\n",
       "      <th>_stop</th>\n",
       "      <th>_time</th>\n",
       "      <th>_value</th>\n",
       "      <th>_field</th>\n",
       "      <th>_measurement</th>\n",
       "      <th>inventory-rack-id</th>\n",
       "      <th>inventory-server-id</th>\n",
       "      <th>placement</th>\n",
       "      <th>plugin</th>\n",
       "      <th>url</th>\n",
       "    </tr>\n",
       "  </thead>\n",
       "  <tbody>\n",
       "    <tr>\n",
       "      <th>0</th>\n",
       "      <td>_result</td>\n",
       "      <td>0</td>\n",
       "      <td>2025-08-04 06:00:00+00:00</td>\n",
       "      <td>2025-08-04 11:00:00+00:00</td>\n",
       "      <td>2025-08-04 06:00:31+00:00</td>\n",
       "      <td>67.001</td>\n",
       "      <td>activePower</td>\n",
       "      <td>energy_measurements</td>\n",
       "      <td>r4</td>\n",
       "      <td>flux-node1</td>\n",
       "      <td>left</td>\n",
       "      <td>pdu</td>\n",
       "      <td>https://192.168.88.145/rest/mbdetnrs/2.0/power...</td>\n",
       "    </tr>\n",
       "    <tr>\n",
       "      <th>1</th>\n",
       "      <td>_result</td>\n",
       "      <td>0</td>\n",
       "      <td>2025-08-04 06:00:00+00:00</td>\n",
       "      <td>2025-08-04 11:00:00+00:00</td>\n",
       "      <td>2025-08-04 06:01:03+00:00</td>\n",
       "      <td>71.235</td>\n",
       "      <td>activePower</td>\n",
       "      <td>energy_measurements</td>\n",
       "      <td>r4</td>\n",
       "      <td>flux-node1</td>\n",
       "      <td>left</td>\n",
       "      <td>pdu</td>\n",
       "      <td>https://192.168.88.145/rest/mbdetnrs/2.0/power...</td>\n",
       "    </tr>\n",
       "    <tr>\n",
       "      <th>2</th>\n",
       "      <td>_result</td>\n",
       "      <td>0</td>\n",
       "      <td>2025-08-04 06:00:00+00:00</td>\n",
       "      <td>2025-08-04 11:00:00+00:00</td>\n",
       "      <td>2025-08-04 06:01:32+00:00</td>\n",
       "      <td>66.615</td>\n",
       "      <td>activePower</td>\n",
       "      <td>energy_measurements</td>\n",
       "      <td>r4</td>\n",
       "      <td>flux-node1</td>\n",
       "      <td>left</td>\n",
       "      <td>pdu</td>\n",
       "      <td>https://192.168.88.145/rest/mbdetnrs/2.0/power...</td>\n",
       "    </tr>\n",
       "    <tr>\n",
       "      <th>3</th>\n",
       "      <td>_result</td>\n",
       "      <td>0</td>\n",
       "      <td>2025-08-04 06:00:00+00:00</td>\n",
       "      <td>2025-08-04 11:00:00+00:00</td>\n",
       "      <td>2025-08-04 06:02:03+00:00</td>\n",
       "      <td>66.361</td>\n",
       "      <td>activePower</td>\n",
       "      <td>energy_measurements</td>\n",
       "      <td>r4</td>\n",
       "      <td>flux-node1</td>\n",
       "      <td>left</td>\n",
       "      <td>pdu</td>\n",
       "      <td>https://192.168.88.145/rest/mbdetnrs/2.0/power...</td>\n",
       "    </tr>\n",
       "    <tr>\n",
       "      <th>4</th>\n",
       "      <td>_result</td>\n",
       "      <td>0</td>\n",
       "      <td>2025-08-04 06:00:00+00:00</td>\n",
       "      <td>2025-08-04 11:00:00+00:00</td>\n",
       "      <td>2025-08-04 06:02:33+00:00</td>\n",
       "      <td>66.659</td>\n",
       "      <td>activePower</td>\n",
       "      <td>energy_measurements</td>\n",
       "      <td>r4</td>\n",
       "      <td>flux-node1</td>\n",
       "      <td>left</td>\n",
       "      <td>pdu</td>\n",
       "      <td>https://192.168.88.145/rest/mbdetnrs/2.0/power...</td>\n",
       "    </tr>\n",
       "  </tbody>\n",
       "</table>\n",
       "</div>"
      ]
     },
     "execution_count": 97,
     "metadata": {},
     "output_type": "execute_result"
    }
   ],
   "execution_count": 97
  },
  {
   "metadata": {
    "ExecuteTime": {
     "end_time": "2025-08-05T09:49:39.630453Z",
     "start_time": "2025-08-05T09:49:39.627358Z"
    }
   },
   "cell_type": "code",
   "source": "pdu.shape",
   "id": "3d65a08d24aef8b5",
   "outputs": [
    {
     "data": {
      "text/plain": [
       "(42336, 13)"
      ]
     },
     "execution_count": 98,
     "metadata": {},
     "output_type": "execute_result"
    }
   ],
   "execution_count": 98
  },
  {
   "metadata": {
    "ExecuteTime": {
     "end_time": "2025-08-05T09:49:40.320998Z",
     "start_time": "2025-08-05T09:49:40.317459Z"
    }
   },
   "cell_type": "code",
   "source": "pdu.columns",
   "id": "9ffface8f618935d",
   "outputs": [
    {
     "data": {
      "text/plain": [
       "Index(['result', 'table', '_start', '_stop', '_time', '_value', '_field',\n",
       "       '_measurement', 'inventory-rack-id', 'inventory-server-id', 'placement',\n",
       "       'plugin', 'url'],\n",
       "      dtype='object')"
      ]
     },
     "execution_count": 99,
     "metadata": {},
     "output_type": "execute_result"
    }
   ],
   "execution_count": 99
  },
  {
   "metadata": {},
   "cell_type": "markdown",
   "source": [
    "## Columns\n",
    "\n",
    "- 'result': column with only one value '_result' - REMOVE\n",
    "- 'table': column with values from 0 to 17 - NOT SURE HOW RELEVANT IT IS - REMOVE\n",
    "- '_start': column with timestamps, only one value ('2025-08-04 06:00:00+00:00') - REMOVE\n",
    "- '_stop': column with timestamps, only one value ('2025-08-04 11:00:00+00:00') - REMOVE\n",
    "- '_time': column with timestamps, values from '2025-08-04 06:00:00+00:00' to '2025-08-04 11:00:00+00:00' second by second - KEEP\n",
    "- '_value': column with values from the '_field' column, values are floats - KEEP\n",
    "- '_field': column with names of the metrics ({'activePower', 'apparentPower', 'cumulatedEnergy', 'current', 'currentTHD', 'partialEnergy',\n",
    "'peakFactor', 'powerFactor', 'reactivePower'}\n",
    "- '_measurement': column with only one value: 'energy_measurements' - REMOVE\n",
    "- 'inventory-rack-id': column with the only one value: 'r4' - REMOVE\n",
    "- 'inventory-server-id': columns with the server IDs, values are: {'flux-node1', 'flux-node3', 'flux-node4', 'flux-node5'} - KEEP\n",
    "- 'placement': column with two values: {'left', 'right'} - KEEP\n",
    "- 'plugin': column with only one value: 'pdu' - REMOVE\n",
    "- 'url': column with URLs. - KEEP"
   ],
   "id": "25918af2b4904de6"
  },
  {
   "metadata": {
    "ExecuteTime": {
     "end_time": "2025-08-05T10:19:08.577699Z",
     "start_time": "2025-08-05T10:19:08.573273Z"
    }
   },
   "cell_type": "code",
   "source": "pdu = pdu.drop(columns=['result', 'table', '_start', '_stop', '_measurement', 'inventory-rack-id', 'plugin'])",
   "id": "be7fe6851e8d6343",
   "outputs": [],
   "execution_count": 109
  },
  {
   "metadata": {
    "ExecuteTime": {
     "end_time": "2025-08-05T10:19:21.258374Z",
     "start_time": "2025-08-05T10:19:21.249277Z"
    }
   },
   "cell_type": "code",
   "source": "pdu.isna().sum()",
   "id": "94e42d276d66f460",
   "outputs": [
    {
     "data": {
      "text/plain": [
       "_time                  0\n",
       "_value                 0\n",
       "_field                 0\n",
       "inventory-server-id    0\n",
       "placement              0\n",
       "url                    0\n",
       "dtype: int64"
      ]
     },
     "execution_count": 110,
     "metadata": {},
     "output_type": "execute_result"
    }
   ],
   "execution_count": 110
  },
  {
   "metadata": {},
   "cell_type": "markdown",
   "source": "# Proxmox",
   "id": "d3c95fbccd17a4a5"
  },
  {
   "metadata": {
    "ExecuteTime": {
     "end_time": "2025-08-05T11:14:12.504065Z",
     "start_time": "2025-08-05T11:14:12.444086Z"
    }
   },
   "cell_type": "code",
   "source": "proxmox = pd.read_csv('proxmox_neuronet_20250805_090202.csv')",
   "id": "c8d06a0d1cddcd2b",
   "outputs": [],
   "execution_count": 111
  },
  {
   "metadata": {
    "ExecuteTime": {
     "end_time": "2025-08-05T11:14:15.006992Z",
     "start_time": "2025-08-05T11:14:14.997104Z"
    }
   },
   "cell_type": "code",
   "source": "proxmox.head()",
   "id": "f29b0009aa73da45",
   "outputs": [
    {
     "data": {
      "text/plain": [
       "    result  table                     _start                      _stop  \\\n",
       "0  _result      0  2025-08-04 06:00:00+00:00  2025-08-04 11:00:00+00:00   \n",
       "1  _result      0  2025-08-04 06:00:00+00:00  2025-08-04 11:00:00+00:00   \n",
       "2  _result      0  2025-08-04 06:00:00+00:00  2025-08-04 11:00:00+00:00   \n",
       "3  _result      0  2025-08-04 06:00:00+00:00  2025-08-04 11:00:00+00:00   \n",
       "4  _result      0  2025-08-04 06:00:00+00:00  2025-08-04 11:00:00+00:00   \n",
       "\n",
       "                       _time             _value   _field  \\\n",
       "0  2025-08-04 06:15:51+00:00  0.350823417332782  cpuload   \n",
       "1  2025-08-04 06:16:01+00:00  0.331923338129496  cpuload   \n",
       "2  2025-08-04 06:17:06+00:00                0.0  cpuload   \n",
       "3  2025-08-04 06:18:06+00:00  0.358678273800665  cpuload   \n",
       "4  2025-08-04 06:19:07+00:00   0.35167300388985  cpuload   \n",
       "\n",
       "                 _measurement inventory-cluster-id inventory-rack-id  \\\n",
       "0  computational_measurements                 flux                r4   \n",
       "1  computational_measurements                 flux                r4   \n",
       "2  computational_measurements                 flux                r4   \n",
       "3  computational_measurements                 flux                r4   \n",
       "4  computational_measurements                 flux                r4   \n",
       "\n",
       "  inventory-server-id            node_fqdn   plugin   status  vm_id  \\\n",
       "0          flux-node1  flux-node1.av.it.pt  proxmox  running    188   \n",
       "1          flux-node1  flux-node1.av.it.pt  proxmox  running    188   \n",
       "2          flux-node1  flux-node1.av.it.pt  proxmox  running    188   \n",
       "3          flux-node1  flux-node1.av.it.pt  proxmox  running    188   \n",
       "4          flux-node1  flux-node1.av.it.pt  proxmox  running    188   \n",
       "\n",
       "       vm_name  \n",
       "0  neuronet-m2  \n",
       "1  neuronet-m2  \n",
       "2  neuronet-m2  \n",
       "3  neuronet-m2  \n",
       "4  neuronet-m2  "
      ],
      "text/html": [
       "<div>\n",
       "<style scoped>\n",
       "    .dataframe tbody tr th:only-of-type {\n",
       "        vertical-align: middle;\n",
       "    }\n",
       "\n",
       "    .dataframe tbody tr th {\n",
       "        vertical-align: top;\n",
       "    }\n",
       "\n",
       "    .dataframe thead th {\n",
       "        text-align: right;\n",
       "    }\n",
       "</style>\n",
       "<table border=\"1\" class=\"dataframe\">\n",
       "  <thead>\n",
       "    <tr style=\"text-align: right;\">\n",
       "      <th></th>\n",
       "      <th>result</th>\n",
       "      <th>table</th>\n",
       "      <th>_start</th>\n",
       "      <th>_stop</th>\n",
       "      <th>_time</th>\n",
       "      <th>_value</th>\n",
       "      <th>_field</th>\n",
       "      <th>_measurement</th>\n",
       "      <th>inventory-cluster-id</th>\n",
       "      <th>inventory-rack-id</th>\n",
       "      <th>inventory-server-id</th>\n",
       "      <th>node_fqdn</th>\n",
       "      <th>plugin</th>\n",
       "      <th>status</th>\n",
       "      <th>vm_id</th>\n",
       "      <th>vm_name</th>\n",
       "    </tr>\n",
       "  </thead>\n",
       "  <tbody>\n",
       "    <tr>\n",
       "      <th>0</th>\n",
       "      <td>_result</td>\n",
       "      <td>0</td>\n",
       "      <td>2025-08-04 06:00:00+00:00</td>\n",
       "      <td>2025-08-04 11:00:00+00:00</td>\n",
       "      <td>2025-08-04 06:15:51+00:00</td>\n",
       "      <td>0.350823417332782</td>\n",
       "      <td>cpuload</td>\n",
       "      <td>computational_measurements</td>\n",
       "      <td>flux</td>\n",
       "      <td>r4</td>\n",
       "      <td>flux-node1</td>\n",
       "      <td>flux-node1.av.it.pt</td>\n",
       "      <td>proxmox</td>\n",
       "      <td>running</td>\n",
       "      <td>188</td>\n",
       "      <td>neuronet-m2</td>\n",
       "    </tr>\n",
       "    <tr>\n",
       "      <th>1</th>\n",
       "      <td>_result</td>\n",
       "      <td>0</td>\n",
       "      <td>2025-08-04 06:00:00+00:00</td>\n",
       "      <td>2025-08-04 11:00:00+00:00</td>\n",
       "      <td>2025-08-04 06:16:01+00:00</td>\n",
       "      <td>0.331923338129496</td>\n",
       "      <td>cpuload</td>\n",
       "      <td>computational_measurements</td>\n",
       "      <td>flux</td>\n",
       "      <td>r4</td>\n",
       "      <td>flux-node1</td>\n",
       "      <td>flux-node1.av.it.pt</td>\n",
       "      <td>proxmox</td>\n",
       "      <td>running</td>\n",
       "      <td>188</td>\n",
       "      <td>neuronet-m2</td>\n",
       "    </tr>\n",
       "    <tr>\n",
       "      <th>2</th>\n",
       "      <td>_result</td>\n",
       "      <td>0</td>\n",
       "      <td>2025-08-04 06:00:00+00:00</td>\n",
       "      <td>2025-08-04 11:00:00+00:00</td>\n",
       "      <td>2025-08-04 06:17:06+00:00</td>\n",
       "      <td>0.0</td>\n",
       "      <td>cpuload</td>\n",
       "      <td>computational_measurements</td>\n",
       "      <td>flux</td>\n",
       "      <td>r4</td>\n",
       "      <td>flux-node1</td>\n",
       "      <td>flux-node1.av.it.pt</td>\n",
       "      <td>proxmox</td>\n",
       "      <td>running</td>\n",
       "      <td>188</td>\n",
       "      <td>neuronet-m2</td>\n",
       "    </tr>\n",
       "    <tr>\n",
       "      <th>3</th>\n",
       "      <td>_result</td>\n",
       "      <td>0</td>\n",
       "      <td>2025-08-04 06:00:00+00:00</td>\n",
       "      <td>2025-08-04 11:00:00+00:00</td>\n",
       "      <td>2025-08-04 06:18:06+00:00</td>\n",
       "      <td>0.358678273800665</td>\n",
       "      <td>cpuload</td>\n",
       "      <td>computational_measurements</td>\n",
       "      <td>flux</td>\n",
       "      <td>r4</td>\n",
       "      <td>flux-node1</td>\n",
       "      <td>flux-node1.av.it.pt</td>\n",
       "      <td>proxmox</td>\n",
       "      <td>running</td>\n",
       "      <td>188</td>\n",
       "      <td>neuronet-m2</td>\n",
       "    </tr>\n",
       "    <tr>\n",
       "      <th>4</th>\n",
       "      <td>_result</td>\n",
       "      <td>0</td>\n",
       "      <td>2025-08-04 06:00:00+00:00</td>\n",
       "      <td>2025-08-04 11:00:00+00:00</td>\n",
       "      <td>2025-08-04 06:19:07+00:00</td>\n",
       "      <td>0.35167300388985</td>\n",
       "      <td>cpuload</td>\n",
       "      <td>computational_measurements</td>\n",
       "      <td>flux</td>\n",
       "      <td>r4</td>\n",
       "      <td>flux-node1</td>\n",
       "      <td>flux-node1.av.it.pt</td>\n",
       "      <td>proxmox</td>\n",
       "      <td>running</td>\n",
       "      <td>188</td>\n",
       "      <td>neuronet-m2</td>\n",
       "    </tr>\n",
       "  </tbody>\n",
       "</table>\n",
       "</div>"
      ]
     },
     "execution_count": 112,
     "metadata": {},
     "output_type": "execute_result"
    }
   ],
   "execution_count": 112
  },
  {
   "metadata": {
    "ExecuteTime": {
     "end_time": "2025-08-05T11:14:17.396678Z",
     "start_time": "2025-08-05T11:14:17.394012Z"
    }
   },
   "cell_type": "code",
   "source": "proxmox.shape",
   "id": "529c0b7249f978d7",
   "outputs": [
    {
     "data": {
      "text/plain": [
       "(37500, 16)"
      ]
     },
     "execution_count": 113,
     "metadata": {},
     "output_type": "execute_result"
    }
   ],
   "execution_count": 113
  },
  {
   "metadata": {
    "ExecuteTime": {
     "end_time": "2025-08-05T11:14:31.901427Z",
     "start_time": "2025-08-05T11:14:31.897501Z"
    }
   },
   "cell_type": "code",
   "source": "proxmox.columns",
   "id": "5aeae8dd354e362b",
   "outputs": [
    {
     "data": {
      "text/plain": [
       "Index(['result', 'table', '_start', '_stop', '_time', '_value', '_field',\n",
       "       '_measurement', 'inventory-cluster-id', 'inventory-rack-id',\n",
       "       'inventory-server-id', 'node_fqdn', 'plugin', 'status', 'vm_id',\n",
       "       'vm_name'],\n",
       "      dtype='object')"
      ]
     },
     "execution_count": 114,
     "metadata": {},
     "output_type": "execute_result"
    }
   ],
   "execution_count": 114
  },
  {
   "metadata": {},
   "cell_type": "markdown",
   "source": [
    "## Columns:\n",
    "\n",
    "- 'result': column with only one value '_result' - REMOVE\n",
    "- 'table': column with values from 0 to 1 - NOT SURE HOW RELEVANT IT IS - REMOVE\n",
    "- '_start': column with timestamps, only one value ('2025-08-04 06:00:00+00:00') - REMOVE\n",
    "- '_stop': column with timestamps, only one value ('2025-08-04 11:00:00+00:00') - REMOVE\n",
    "- '_time': column with timestamps, values from '2025-08-04 06:00:00+00:00' to '2025-08-04 11:00:00+00:00' second by second - KEEP\n",
    "- '_value': column with values from the '_field' column, values are floats - KEEP\n",
    "- '_field': column with names of the metrics ({'cpuload', 'disk_free', 'disk_total', 'disk_used', 'disk_used_percentage', 'mem_free', 'mem_total',\n",
    "'mem_used', 'mem_used_percentage', 'status', 'swap_free', 'swap_total', 'swap_used', 'swap_used_percentage', 'uptime'} - KEEP\n",
    "- '_measurement': column with only one value: 'computational_measurements' - REMOVE\n",
    "- 'inventory-cluster-id': column with the only one value: 'flux' - REMOVE\n",
    "- 'inventory-rack-id': column with the only one value: 'r4' - REMOVE\n",
    "- 'inventory-server-id': columns with values: {'flux-node1', 'flux-node3', 'flux-node4', 'flux-node5'} - KEEP\n",
    "- 'node_fqdn': column with node FQDNs, values are: {'flux-node1.av.it.pt', 'flux-node3.av.it.pt', 'flux-node4.av.it.pt', 'flux-node5.av.it.pt'} - REDUNDANT - REMOVE\n",
    "- 'plugin': column with only one value: 'proxmox' - REMOVE\n",
    "- 'status': column with only one value: 'running' - REMOVE\n",
    "- 'vm_id': column with VM IDs - KEEP\n",
    "- 'vm_name': column with VM names, values are: {'neuronet-k8s-lb', 'neuronet-k8s-m1', 'neuronet-k8s-m2', 'neuronet-k8s-m3',\n",
    "'neuronet-k8s-w1', 'neuronet-k8s-w2', 'neuronet-k8s-w3', 'neuronet-lb', 'neuronet-m1', 'neuronet-m2', 'neuronet-m3', 'neuronet-w1', 'neuronet-w2', 'neuronet-w3'} - KEEP"
   ],
   "id": "de5ae5ea5f8eaf59"
  },
  {
   "metadata": {
    "ExecuteTime": {
     "end_time": "2025-08-05T11:23:03.700671Z",
     "start_time": "2025-08-05T11:23:03.696818Z"
    }
   },
   "cell_type": "code",
   "source": "proxmox = proxmox.drop(columns=['result', 'table', '_start', '_stop', '_measurement', 'inventory-cluster-id', 'inventory-rack-id', 'node_fqdn', 'plugin', 'status'])",
   "id": "4f1c71b4bc6eb9a0",
   "outputs": [],
   "execution_count": 125
  },
  {
   "metadata": {
    "ExecuteTime": {
     "end_time": "2025-08-05T11:23:26.537427Z",
     "start_time": "2025-08-05T11:23:26.528734Z"
    }
   },
   "cell_type": "code",
   "source": "proxmox.isna().sum()",
   "id": "dd91109c712742bc",
   "outputs": [
    {
     "data": {
      "text/plain": [
       "_time                  0\n",
       "_value                 0\n",
       "_field                 0\n",
       "inventory-server-id    0\n",
       "vm_id                  0\n",
       "vm_name                0\n",
       "dtype: int64"
      ]
     },
     "execution_count": 127,
     "metadata": {},
     "output_type": "execute_result"
    }
   ],
   "execution_count": 127
  },
  {
   "metadata": {},
   "cell_type": "markdown",
   "source": "# Scaphandre Host",
   "id": "9f9d17c9af2f0223"
  },
  {
   "metadata": {
    "ExecuteTime": {
     "end_time": "2025-08-05T11:26:15.780304Z",
     "start_time": "2025-08-05T11:26:15.768586Z"
    }
   },
   "cell_type": "code",
   "source": [
    "scaphadre3 = pd.read_csv('scaphandre_flux-node3_20250805_090248.csv')\n",
    "scaphadre4 = pd.read_csv('scaphandre_flux-node4_20250805_090248.csv')\n",
    "scaphadre5 = pd.read_csv('scaphandre_flux-node5_20250805_090249.csv')"
   ],
   "id": "43d9f9a1d455e25d",
   "outputs": [],
   "execution_count": 129
  },
  {
   "metadata": {
    "ExecuteTime": {
     "end_time": "2025-08-05T11:26:26.608185Z",
     "start_time": "2025-08-05T11:26:26.598499Z"
    }
   },
   "cell_type": "code",
   "source": "scaphadre3.head()",
   "id": "19ca89b6a42c104",
   "outputs": [
    {
     "data": {
      "text/plain": [
       "    result  table                     _start                      _stop  \\\n",
       "0  _result      0  2025-08-04 06:00:00+00:00  2025-08-04 11:00:00+00:00   \n",
       "1  _result      0  2025-08-04 06:00:00+00:00  2025-08-04 11:00:00+00:00   \n",
       "2  _result      0  2025-08-04 06:00:00+00:00  2025-08-04 11:00:00+00:00   \n",
       "3  _result      0  2025-08-04 06:00:00+00:00  2025-08-04 11:00:00+00:00   \n",
       "4  _result      0  2025-08-04 06:00:00+00:00  2025-08-04 11:00:00+00:00   \n",
       "\n",
       "                       _time      _value                       _field  \\\n",
       "0  2025-08-04 06:00:01+00:00  88732473.0  scaph_host_power_microwatts   \n",
       "1  2025-08-04 06:02:02+00:00  76936837.0  scaph_host_power_microwatts   \n",
       "2  2025-08-04 06:03:02+00:00  79611793.0  scaph_host_power_microwatts   \n",
       "3  2025-08-04 06:04:03+00:00  70593122.0  scaph_host_power_microwatts   \n",
       "4  2025-08-04 06:05:02+00:00  71334172.0  scaph_host_power_microwatts   \n",
       "\n",
       "          _measurement   granularity inventory-cluster-id inventory-rack-id  \\\n",
       "0  energy_measurements  host+process                 flux                r4   \n",
       "1  energy_measurements  host+process                 flux                r4   \n",
       "2  energy_measurements  host+process                 flux                r4   \n",
       "3  energy_measurements  host+process                 flux                r4   \n",
       "4  energy_measurements  host+process                 flux                r4   \n",
       "\n",
       "       plugin                                      url  \n",
       "0  scaphandre  http://flux-node3.av.it.pt:8080/metrics  \n",
       "1  scaphandre  http://flux-node3.av.it.pt:8080/metrics  \n",
       "2  scaphandre  http://flux-node3.av.it.pt:8080/metrics  \n",
       "3  scaphandre  http://flux-node3.av.it.pt:8080/metrics  \n",
       "4  scaphandre  http://flux-node3.av.it.pt:8080/metrics  "
      ],
      "text/html": [
       "<div>\n",
       "<style scoped>\n",
       "    .dataframe tbody tr th:only-of-type {\n",
       "        vertical-align: middle;\n",
       "    }\n",
       "\n",
       "    .dataframe tbody tr th {\n",
       "        vertical-align: top;\n",
       "    }\n",
       "\n",
       "    .dataframe thead th {\n",
       "        text-align: right;\n",
       "    }\n",
       "</style>\n",
       "<table border=\"1\" class=\"dataframe\">\n",
       "  <thead>\n",
       "    <tr style=\"text-align: right;\">\n",
       "      <th></th>\n",
       "      <th>result</th>\n",
       "      <th>table</th>\n",
       "      <th>_start</th>\n",
       "      <th>_stop</th>\n",
       "      <th>_time</th>\n",
       "      <th>_value</th>\n",
       "      <th>_field</th>\n",
       "      <th>_measurement</th>\n",
       "      <th>granularity</th>\n",
       "      <th>inventory-cluster-id</th>\n",
       "      <th>inventory-rack-id</th>\n",
       "      <th>plugin</th>\n",
       "      <th>url</th>\n",
       "    </tr>\n",
       "  </thead>\n",
       "  <tbody>\n",
       "    <tr>\n",
       "      <th>0</th>\n",
       "      <td>_result</td>\n",
       "      <td>0</td>\n",
       "      <td>2025-08-04 06:00:00+00:00</td>\n",
       "      <td>2025-08-04 11:00:00+00:00</td>\n",
       "      <td>2025-08-04 06:00:01+00:00</td>\n",
       "      <td>88732473.0</td>\n",
       "      <td>scaph_host_power_microwatts</td>\n",
       "      <td>energy_measurements</td>\n",
       "      <td>host+process</td>\n",
       "      <td>flux</td>\n",
       "      <td>r4</td>\n",
       "      <td>scaphandre</td>\n",
       "      <td>http://flux-node3.av.it.pt:8080/metrics</td>\n",
       "    </tr>\n",
       "    <tr>\n",
       "      <th>1</th>\n",
       "      <td>_result</td>\n",
       "      <td>0</td>\n",
       "      <td>2025-08-04 06:00:00+00:00</td>\n",
       "      <td>2025-08-04 11:00:00+00:00</td>\n",
       "      <td>2025-08-04 06:02:02+00:00</td>\n",
       "      <td>76936837.0</td>\n",
       "      <td>scaph_host_power_microwatts</td>\n",
       "      <td>energy_measurements</td>\n",
       "      <td>host+process</td>\n",
       "      <td>flux</td>\n",
       "      <td>r4</td>\n",
       "      <td>scaphandre</td>\n",
       "      <td>http://flux-node3.av.it.pt:8080/metrics</td>\n",
       "    </tr>\n",
       "    <tr>\n",
       "      <th>2</th>\n",
       "      <td>_result</td>\n",
       "      <td>0</td>\n",
       "      <td>2025-08-04 06:00:00+00:00</td>\n",
       "      <td>2025-08-04 11:00:00+00:00</td>\n",
       "      <td>2025-08-04 06:03:02+00:00</td>\n",
       "      <td>79611793.0</td>\n",
       "      <td>scaph_host_power_microwatts</td>\n",
       "      <td>energy_measurements</td>\n",
       "      <td>host+process</td>\n",
       "      <td>flux</td>\n",
       "      <td>r4</td>\n",
       "      <td>scaphandre</td>\n",
       "      <td>http://flux-node3.av.it.pt:8080/metrics</td>\n",
       "    </tr>\n",
       "    <tr>\n",
       "      <th>3</th>\n",
       "      <td>_result</td>\n",
       "      <td>0</td>\n",
       "      <td>2025-08-04 06:00:00+00:00</td>\n",
       "      <td>2025-08-04 11:00:00+00:00</td>\n",
       "      <td>2025-08-04 06:04:03+00:00</td>\n",
       "      <td>70593122.0</td>\n",
       "      <td>scaph_host_power_microwatts</td>\n",
       "      <td>energy_measurements</td>\n",
       "      <td>host+process</td>\n",
       "      <td>flux</td>\n",
       "      <td>r4</td>\n",
       "      <td>scaphandre</td>\n",
       "      <td>http://flux-node3.av.it.pt:8080/metrics</td>\n",
       "    </tr>\n",
       "    <tr>\n",
       "      <th>4</th>\n",
       "      <td>_result</td>\n",
       "      <td>0</td>\n",
       "      <td>2025-08-04 06:00:00+00:00</td>\n",
       "      <td>2025-08-04 11:00:00+00:00</td>\n",
       "      <td>2025-08-04 06:05:02+00:00</td>\n",
       "      <td>71334172.0</td>\n",
       "      <td>scaph_host_power_microwatts</td>\n",
       "      <td>energy_measurements</td>\n",
       "      <td>host+process</td>\n",
       "      <td>flux</td>\n",
       "      <td>r4</td>\n",
       "      <td>scaphandre</td>\n",
       "      <td>http://flux-node3.av.it.pt:8080/metrics</td>\n",
       "    </tr>\n",
       "  </tbody>\n",
       "</table>\n",
       "</div>"
      ]
     },
     "execution_count": 130,
     "metadata": {},
     "output_type": "execute_result"
    }
   ],
   "execution_count": 130
  },
  {
   "metadata": {
    "ExecuteTime": {
     "end_time": "2025-08-05T11:26:45.051510Z",
     "start_time": "2025-08-05T11:26:45.048481Z"
    }
   },
   "cell_type": "code",
   "source": [
    "# combine scaphadre3, scaphadre4, scaphadre5 into one dataframe\n",
    "scaphandre = pd.concat([scaphadre3, scaphadre4, scaphadre5], ignore_index=True)"
   ],
   "id": "c41ab709d3815254",
   "outputs": [],
   "execution_count": 131
  },
  {
   "metadata": {
    "ExecuteTime": {
     "end_time": "2025-08-05T11:26:45.677042Z",
     "start_time": "2025-08-05T11:26:45.669873Z"
    }
   },
   "cell_type": "code",
   "source": "scaphandre.head()",
   "id": "b378d65ac1b144e4",
   "outputs": [
    {
     "data": {
      "text/plain": [
       "    result  table                     _start                      _stop  \\\n",
       "0  _result      0  2025-08-04 06:00:00+00:00  2025-08-04 11:00:00+00:00   \n",
       "1  _result      0  2025-08-04 06:00:00+00:00  2025-08-04 11:00:00+00:00   \n",
       "2  _result      0  2025-08-04 06:00:00+00:00  2025-08-04 11:00:00+00:00   \n",
       "3  _result      0  2025-08-04 06:00:00+00:00  2025-08-04 11:00:00+00:00   \n",
       "4  _result      0  2025-08-04 06:00:00+00:00  2025-08-04 11:00:00+00:00   \n",
       "\n",
       "                       _time      _value                       _field  \\\n",
       "0  2025-08-04 06:00:01+00:00  88732473.0  scaph_host_power_microwatts   \n",
       "1  2025-08-04 06:02:02+00:00  76936837.0  scaph_host_power_microwatts   \n",
       "2  2025-08-04 06:03:02+00:00  79611793.0  scaph_host_power_microwatts   \n",
       "3  2025-08-04 06:04:03+00:00  70593122.0  scaph_host_power_microwatts   \n",
       "4  2025-08-04 06:05:02+00:00  71334172.0  scaph_host_power_microwatts   \n",
       "\n",
       "          _measurement   granularity inventory-cluster-id inventory-rack-id  \\\n",
       "0  energy_measurements  host+process                 flux                r4   \n",
       "1  energy_measurements  host+process                 flux                r4   \n",
       "2  energy_measurements  host+process                 flux                r4   \n",
       "3  energy_measurements  host+process                 flux                r4   \n",
       "4  energy_measurements  host+process                 flux                r4   \n",
       "\n",
       "       plugin                                      url  \n",
       "0  scaphandre  http://flux-node3.av.it.pt:8080/metrics  \n",
       "1  scaphandre  http://flux-node3.av.it.pt:8080/metrics  \n",
       "2  scaphandre  http://flux-node3.av.it.pt:8080/metrics  \n",
       "3  scaphandre  http://flux-node3.av.it.pt:8080/metrics  \n",
       "4  scaphandre  http://flux-node3.av.it.pt:8080/metrics  "
      ],
      "text/html": [
       "<div>\n",
       "<style scoped>\n",
       "    .dataframe tbody tr th:only-of-type {\n",
       "        vertical-align: middle;\n",
       "    }\n",
       "\n",
       "    .dataframe tbody tr th {\n",
       "        vertical-align: top;\n",
       "    }\n",
       "\n",
       "    .dataframe thead th {\n",
       "        text-align: right;\n",
       "    }\n",
       "</style>\n",
       "<table border=\"1\" class=\"dataframe\">\n",
       "  <thead>\n",
       "    <tr style=\"text-align: right;\">\n",
       "      <th></th>\n",
       "      <th>result</th>\n",
       "      <th>table</th>\n",
       "      <th>_start</th>\n",
       "      <th>_stop</th>\n",
       "      <th>_time</th>\n",
       "      <th>_value</th>\n",
       "      <th>_field</th>\n",
       "      <th>_measurement</th>\n",
       "      <th>granularity</th>\n",
       "      <th>inventory-cluster-id</th>\n",
       "      <th>inventory-rack-id</th>\n",
       "      <th>plugin</th>\n",
       "      <th>url</th>\n",
       "    </tr>\n",
       "  </thead>\n",
       "  <tbody>\n",
       "    <tr>\n",
       "      <th>0</th>\n",
       "      <td>_result</td>\n",
       "      <td>0</td>\n",
       "      <td>2025-08-04 06:00:00+00:00</td>\n",
       "      <td>2025-08-04 11:00:00+00:00</td>\n",
       "      <td>2025-08-04 06:00:01+00:00</td>\n",
       "      <td>88732473.0</td>\n",
       "      <td>scaph_host_power_microwatts</td>\n",
       "      <td>energy_measurements</td>\n",
       "      <td>host+process</td>\n",
       "      <td>flux</td>\n",
       "      <td>r4</td>\n",
       "      <td>scaphandre</td>\n",
       "      <td>http://flux-node3.av.it.pt:8080/metrics</td>\n",
       "    </tr>\n",
       "    <tr>\n",
       "      <th>1</th>\n",
       "      <td>_result</td>\n",
       "      <td>0</td>\n",
       "      <td>2025-08-04 06:00:00+00:00</td>\n",
       "      <td>2025-08-04 11:00:00+00:00</td>\n",
       "      <td>2025-08-04 06:02:02+00:00</td>\n",
       "      <td>76936837.0</td>\n",
       "      <td>scaph_host_power_microwatts</td>\n",
       "      <td>energy_measurements</td>\n",
       "      <td>host+process</td>\n",
       "      <td>flux</td>\n",
       "      <td>r4</td>\n",
       "      <td>scaphandre</td>\n",
       "      <td>http://flux-node3.av.it.pt:8080/metrics</td>\n",
       "    </tr>\n",
       "    <tr>\n",
       "      <th>2</th>\n",
       "      <td>_result</td>\n",
       "      <td>0</td>\n",
       "      <td>2025-08-04 06:00:00+00:00</td>\n",
       "      <td>2025-08-04 11:00:00+00:00</td>\n",
       "      <td>2025-08-04 06:03:02+00:00</td>\n",
       "      <td>79611793.0</td>\n",
       "      <td>scaph_host_power_microwatts</td>\n",
       "      <td>energy_measurements</td>\n",
       "      <td>host+process</td>\n",
       "      <td>flux</td>\n",
       "      <td>r4</td>\n",
       "      <td>scaphandre</td>\n",
       "      <td>http://flux-node3.av.it.pt:8080/metrics</td>\n",
       "    </tr>\n",
       "    <tr>\n",
       "      <th>3</th>\n",
       "      <td>_result</td>\n",
       "      <td>0</td>\n",
       "      <td>2025-08-04 06:00:00+00:00</td>\n",
       "      <td>2025-08-04 11:00:00+00:00</td>\n",
       "      <td>2025-08-04 06:04:03+00:00</td>\n",
       "      <td>70593122.0</td>\n",
       "      <td>scaph_host_power_microwatts</td>\n",
       "      <td>energy_measurements</td>\n",
       "      <td>host+process</td>\n",
       "      <td>flux</td>\n",
       "      <td>r4</td>\n",
       "      <td>scaphandre</td>\n",
       "      <td>http://flux-node3.av.it.pt:8080/metrics</td>\n",
       "    </tr>\n",
       "    <tr>\n",
       "      <th>4</th>\n",
       "      <td>_result</td>\n",
       "      <td>0</td>\n",
       "      <td>2025-08-04 06:00:00+00:00</td>\n",
       "      <td>2025-08-04 11:00:00+00:00</td>\n",
       "      <td>2025-08-04 06:05:02+00:00</td>\n",
       "      <td>71334172.0</td>\n",
       "      <td>scaph_host_power_microwatts</td>\n",
       "      <td>energy_measurements</td>\n",
       "      <td>host+process</td>\n",
       "      <td>flux</td>\n",
       "      <td>r4</td>\n",
       "      <td>scaphandre</td>\n",
       "      <td>http://flux-node3.av.it.pt:8080/metrics</td>\n",
       "    </tr>\n",
       "  </tbody>\n",
       "</table>\n",
       "</div>"
      ]
     },
     "execution_count": 132,
     "metadata": {},
     "output_type": "execute_result"
    }
   ],
   "execution_count": 132
  },
  {
   "metadata": {
    "ExecuteTime": {
     "end_time": "2025-08-05T11:26:51.690417Z",
     "start_time": "2025-08-05T11:26:51.687425Z"
    }
   },
   "cell_type": "code",
   "source": "scaphandre.shape",
   "id": "3159102296fa1074",
   "outputs": [
    {
     "data": {
      "text/plain": [
       "(819, 13)"
      ]
     },
     "execution_count": 133,
     "metadata": {},
     "output_type": "execute_result"
    }
   ],
   "execution_count": 133
  },
  {
   "metadata": {
    "ExecuteTime": {
     "end_time": "2025-08-05T11:27:00.334105Z",
     "start_time": "2025-08-05T11:27:00.331015Z"
    }
   },
   "cell_type": "code",
   "source": "scaphandre.columns",
   "id": "7aabdc1b23c303e7",
   "outputs": [
    {
     "data": {
      "text/plain": [
       "Index(['result', 'table', '_start', '_stop', '_time', '_value', '_field',\n",
       "       '_measurement', 'granularity', 'inventory-cluster-id',\n",
       "       'inventory-rack-id', 'plugin', 'url'],\n",
       "      dtype='object')"
      ]
     },
     "execution_count": 134,
     "metadata": {},
     "output_type": "execute_result"
    }
   ],
   "execution_count": 134
  },
  {
   "metadata": {},
   "cell_type": "markdown",
   "source": [
    "## Columns:\n",
    "\n",
    "- 'result': column with only one value '_result' - REMOVE\n",
    "- 'table': column with values from 0 to 1 - NOT SURE HOW RELEVANT IT IS - REMOVE\n",
    "- '_start': column with timestamps, only one value ('2025-08-04 06:00:00+00:00') - REMOVE\n",
    "- '_stop': column with timestamps, only one value ('2025-08-04 11:00:00+00:00') - REMOVE\n",
    "- '_time': column with timestamps, values from '2025-08-04 06:00:00+00:00' to '2025-08-04 11:00:00+00:00' second by second - KEEP\n",
    "- '_value': column with values from the '_field' column, values are floats - KEEP\n",
    "- '_field': column with names of the metrics ({'scaph_host_power_microwatts'}) - KEEP\n",
    "- '_measurement': column with only one value: 'energy_measurements' - REMOVE\n",
    "- 'granularity': column with only one value: 'host+process' - REMOVE\n",
    "- 'inventory-cluster-id': column with the only one value: 'flux' - REMOVE\n",
    "- 'inventory-rack-id': column with the only one value: 'r4' - REMOVE\n",
    "- 'plugin': column with only one value: 'scaphandre' - REMOVE\n",
    "- 'url': column with URLs. - KEEP"
   ],
   "id": "33666f98d7032498"
  },
  {
   "metadata": {
    "ExecuteTime": {
     "end_time": "2025-08-05T11:31:47.308646Z",
     "start_time": "2025-08-05T11:31:47.305398Z"
    }
   },
   "cell_type": "code",
   "source": "scaphandre_host = scaphandre.drop(columns=['result', 'table', '_start', '_stop', '_measurement', 'granularity', 'inventory-cluster-id', 'inventory-rack-id', 'plugin'])",
   "id": "184af3f0ee3cf89f",
   "outputs": [],
   "execution_count": 147
  },
  {
   "metadata": {
    "ExecuteTime": {
     "end_time": "2025-08-05T11:32:01.641223Z",
     "start_time": "2025-08-05T11:32:01.636749Z"
    }
   },
   "cell_type": "code",
   "source": "scaphandre_host.isna().sum()",
   "id": "85ca85bebb8ef5f6",
   "outputs": [
    {
     "data": {
      "text/plain": [
       "_time     0\n",
       "_value    0\n",
       "_field    0\n",
       "url       0\n",
       "dtype: int64"
      ]
     },
     "execution_count": 148,
     "metadata": {},
     "output_type": "execute_result"
    }
   ],
   "execution_count": 148
  },
  {
   "metadata": {},
   "cell_type": "markdown",
   "source": "# Scaphandre VMs",
   "id": "a842dd3abf93d8e8"
  },
  {
   "metadata": {
    "ExecuteTime": {
     "end_time": "2025-08-05T11:33:35.233972Z",
     "start_time": "2025-08-05T11:33:34.922607Z"
    }
   },
   "cell_type": "code",
   "source": "scaphandre_vms = pd.read_csv('scaphandre_neuronet_20250805_090241.csv')",
   "id": "f9542230f69435df",
   "outputs": [],
   "execution_count": 149
  },
  {
   "metadata": {
    "ExecuteTime": {
     "end_time": "2025-08-05T11:33:54.300199Z",
     "start_time": "2025-08-05T11:33:54.291484Z"
    }
   },
   "cell_type": "code",
   "source": "scaphandre_vms.head()",
   "id": "d9c86cb0c2c0e051",
   "outputs": [
    {
     "data": {
      "text/plain": [
       "    result  table                     _start                      _stop  \\\n",
       "0  _result      0  2025-08-04 06:00:00+00:00  2025-08-04 11:00:00+00:00   \n",
       "1  _result      0  2025-08-04 06:00:00+00:00  2025-08-04 11:00:00+00:00   \n",
       "2  _result      0  2025-08-04 06:00:00+00:00  2025-08-04 11:00:00+00:00   \n",
       "3  _result      0  2025-08-04 06:00:00+00:00  2025-08-04 11:00:00+00:00   \n",
       "4  _result      0  2025-08-04 06:00:00+00:00  2025-08-04 11:00:00+00:00   \n",
       "\n",
       "                       _time    _value                              _field  \\\n",
       "0  2025-08-04 06:01:00+00:00  4.914272  scaph_process_cpu_usage_percentage   \n",
       "1  2025-08-04 06:02:02+00:00  4.906700  scaph_process_cpu_usage_percentage   \n",
       "2  2025-08-04 06:03:02+00:00  4.982093  scaph_process_cpu_usage_percentage   \n",
       "3  2025-08-04 06:04:03+00:00  4.943865  scaph_process_cpu_usage_percentage   \n",
       "4  2025-08-04 06:05:02+00:00  4.966181  scaph_process_cpu_usage_percentage   \n",
       "\n",
       "                 _measurement  \\\n",
       "0  computational_measurements   \n",
       "1  computational_measurements   \n",
       "2  computational_measurements   \n",
       "3  computational_measurements   \n",
       "4  computational_measurements   \n",
       "\n",
       "                                             cmdline  \\\n",
       "0  /usr/bin/kvm-id179-nameneuronet-m1,debug-threa...   \n",
       "1  /usr/bin/kvm-id179-nameneuronet-m1,debug-threa...   \n",
       "2  /usr/bin/kvm-id179-nameneuronet-m1,debug-threa...   \n",
       "3  /usr/bin/kvm-id179-nameneuronet-m1,debug-threa...   \n",
       "4  /usr/bin/kvm-id179-nameneuronet-m1,debug-threa...   \n",
       "\n",
       "                           exe   granularity inventory-cluster-id  \\\n",
       "0  /usr/bin/qemu-system-x86_64  host+process                 flux   \n",
       "1  /usr/bin/qemu-system-x86_64  host+process                 flux   \n",
       "2  /usr/bin/qemu-system-x86_64  host+process                 flux   \n",
       "3  /usr/bin/qemu-system-x86_64  host+process                 flux   \n",
       "4  /usr/bin/qemu-system-x86_64  host+process                 flux   \n",
       "\n",
       "  inventory-rack-id      plugin system_type  \\\n",
       "0                r4  scaphandre         kvm   \n",
       "1                r4  scaphandre         kvm   \n",
       "2                r4  scaphandre         kvm   \n",
       "3                r4  scaphandre         kvm   \n",
       "4                r4  scaphandre         kvm   \n",
       "\n",
       "                                       url  \\\n",
       "0  http://flux-node4.av.it.pt:8080/metrics   \n",
       "1  http://flux-node4.av.it.pt:8080/metrics   \n",
       "2  http://flux-node4.av.it.pt:8080/metrics   \n",
       "3  http://flux-node4.av.it.pt:8080/metrics   \n",
       "4  http://flux-node4.av.it.pt:8080/metrics   \n",
       "\n",
       "                                   uuid  vm_id      vm_name  \n",
       "0  c5237c73-cef8-42c1-bc97-fe0982b9d219    179  neuronet-m1  \n",
       "1  c5237c73-cef8-42c1-bc97-fe0982b9d219    179  neuronet-m1  \n",
       "2  c5237c73-cef8-42c1-bc97-fe0982b9d219    179  neuronet-m1  \n",
       "3  c5237c73-cef8-42c1-bc97-fe0982b9d219    179  neuronet-m1  \n",
       "4  c5237c73-cef8-42c1-bc97-fe0982b9d219    179  neuronet-m1  "
      ],
      "text/html": [
       "<div>\n",
       "<style scoped>\n",
       "    .dataframe tbody tr th:only-of-type {\n",
       "        vertical-align: middle;\n",
       "    }\n",
       "\n",
       "    .dataframe tbody tr th {\n",
       "        vertical-align: top;\n",
       "    }\n",
       "\n",
       "    .dataframe thead th {\n",
       "        text-align: right;\n",
       "    }\n",
       "</style>\n",
       "<table border=\"1\" class=\"dataframe\">\n",
       "  <thead>\n",
       "    <tr style=\"text-align: right;\">\n",
       "      <th></th>\n",
       "      <th>result</th>\n",
       "      <th>table</th>\n",
       "      <th>_start</th>\n",
       "      <th>_stop</th>\n",
       "      <th>_time</th>\n",
       "      <th>_value</th>\n",
       "      <th>_field</th>\n",
       "      <th>_measurement</th>\n",
       "      <th>cmdline</th>\n",
       "      <th>exe</th>\n",
       "      <th>granularity</th>\n",
       "      <th>inventory-cluster-id</th>\n",
       "      <th>inventory-rack-id</th>\n",
       "      <th>plugin</th>\n",
       "      <th>system_type</th>\n",
       "      <th>url</th>\n",
       "      <th>uuid</th>\n",
       "      <th>vm_id</th>\n",
       "      <th>vm_name</th>\n",
       "    </tr>\n",
       "  </thead>\n",
       "  <tbody>\n",
       "    <tr>\n",
       "      <th>0</th>\n",
       "      <td>_result</td>\n",
       "      <td>0</td>\n",
       "      <td>2025-08-04 06:00:00+00:00</td>\n",
       "      <td>2025-08-04 11:00:00+00:00</td>\n",
       "      <td>2025-08-04 06:01:00+00:00</td>\n",
       "      <td>4.914272</td>\n",
       "      <td>scaph_process_cpu_usage_percentage</td>\n",
       "      <td>computational_measurements</td>\n",
       "      <td>/usr/bin/kvm-id179-nameneuronet-m1,debug-threa...</td>\n",
       "      <td>/usr/bin/qemu-system-x86_64</td>\n",
       "      <td>host+process</td>\n",
       "      <td>flux</td>\n",
       "      <td>r4</td>\n",
       "      <td>scaphandre</td>\n",
       "      <td>kvm</td>\n",
       "      <td>http://flux-node4.av.it.pt:8080/metrics</td>\n",
       "      <td>c5237c73-cef8-42c1-bc97-fe0982b9d219</td>\n",
       "      <td>179</td>\n",
       "      <td>neuronet-m1</td>\n",
       "    </tr>\n",
       "    <tr>\n",
       "      <th>1</th>\n",
       "      <td>_result</td>\n",
       "      <td>0</td>\n",
       "      <td>2025-08-04 06:00:00+00:00</td>\n",
       "      <td>2025-08-04 11:00:00+00:00</td>\n",
       "      <td>2025-08-04 06:02:02+00:00</td>\n",
       "      <td>4.906700</td>\n",
       "      <td>scaph_process_cpu_usage_percentage</td>\n",
       "      <td>computational_measurements</td>\n",
       "      <td>/usr/bin/kvm-id179-nameneuronet-m1,debug-threa...</td>\n",
       "      <td>/usr/bin/qemu-system-x86_64</td>\n",
       "      <td>host+process</td>\n",
       "      <td>flux</td>\n",
       "      <td>r4</td>\n",
       "      <td>scaphandre</td>\n",
       "      <td>kvm</td>\n",
       "      <td>http://flux-node4.av.it.pt:8080/metrics</td>\n",
       "      <td>c5237c73-cef8-42c1-bc97-fe0982b9d219</td>\n",
       "      <td>179</td>\n",
       "      <td>neuronet-m1</td>\n",
       "    </tr>\n",
       "    <tr>\n",
       "      <th>2</th>\n",
       "      <td>_result</td>\n",
       "      <td>0</td>\n",
       "      <td>2025-08-04 06:00:00+00:00</td>\n",
       "      <td>2025-08-04 11:00:00+00:00</td>\n",
       "      <td>2025-08-04 06:03:02+00:00</td>\n",
       "      <td>4.982093</td>\n",
       "      <td>scaph_process_cpu_usage_percentage</td>\n",
       "      <td>computational_measurements</td>\n",
       "      <td>/usr/bin/kvm-id179-nameneuronet-m1,debug-threa...</td>\n",
       "      <td>/usr/bin/qemu-system-x86_64</td>\n",
       "      <td>host+process</td>\n",
       "      <td>flux</td>\n",
       "      <td>r4</td>\n",
       "      <td>scaphandre</td>\n",
       "      <td>kvm</td>\n",
       "      <td>http://flux-node4.av.it.pt:8080/metrics</td>\n",
       "      <td>c5237c73-cef8-42c1-bc97-fe0982b9d219</td>\n",
       "      <td>179</td>\n",
       "      <td>neuronet-m1</td>\n",
       "    </tr>\n",
       "    <tr>\n",
       "      <th>3</th>\n",
       "      <td>_result</td>\n",
       "      <td>0</td>\n",
       "      <td>2025-08-04 06:00:00+00:00</td>\n",
       "      <td>2025-08-04 11:00:00+00:00</td>\n",
       "      <td>2025-08-04 06:04:03+00:00</td>\n",
       "      <td>4.943865</td>\n",
       "      <td>scaph_process_cpu_usage_percentage</td>\n",
       "      <td>computational_measurements</td>\n",
       "      <td>/usr/bin/kvm-id179-nameneuronet-m1,debug-threa...</td>\n",
       "      <td>/usr/bin/qemu-system-x86_64</td>\n",
       "      <td>host+process</td>\n",
       "      <td>flux</td>\n",
       "      <td>r4</td>\n",
       "      <td>scaphandre</td>\n",
       "      <td>kvm</td>\n",
       "      <td>http://flux-node4.av.it.pt:8080/metrics</td>\n",
       "      <td>c5237c73-cef8-42c1-bc97-fe0982b9d219</td>\n",
       "      <td>179</td>\n",
       "      <td>neuronet-m1</td>\n",
       "    </tr>\n",
       "    <tr>\n",
       "      <th>4</th>\n",
       "      <td>_result</td>\n",
       "      <td>0</td>\n",
       "      <td>2025-08-04 06:00:00+00:00</td>\n",
       "      <td>2025-08-04 11:00:00+00:00</td>\n",
       "      <td>2025-08-04 06:05:02+00:00</td>\n",
       "      <td>4.966181</td>\n",
       "      <td>scaph_process_cpu_usage_percentage</td>\n",
       "      <td>computational_measurements</td>\n",
       "      <td>/usr/bin/kvm-id179-nameneuronet-m1,debug-threa...</td>\n",
       "      <td>/usr/bin/qemu-system-x86_64</td>\n",
       "      <td>host+process</td>\n",
       "      <td>flux</td>\n",
       "      <td>r4</td>\n",
       "      <td>scaphandre</td>\n",
       "      <td>kvm</td>\n",
       "      <td>http://flux-node4.av.it.pt:8080/metrics</td>\n",
       "      <td>c5237c73-cef8-42c1-bc97-fe0982b9d219</td>\n",
       "      <td>179</td>\n",
       "      <td>neuronet-m1</td>\n",
       "    </tr>\n",
       "  </tbody>\n",
       "</table>\n",
       "</div>"
      ]
     },
     "execution_count": 150,
     "metadata": {},
     "output_type": "execute_result"
    }
   ],
   "execution_count": 150
  },
  {
   "metadata": {
    "ExecuteTime": {
     "end_time": "2025-08-05T11:33:59.773137Z",
     "start_time": "2025-08-05T11:33:59.769523Z"
    }
   },
   "cell_type": "code",
   "source": "scaphandre_vms.shape",
   "id": "62f7de0ce8aafe67",
   "outputs": [
    {
     "data": {
      "text/plain": [
       "(22112, 19)"
      ]
     },
     "execution_count": 151,
     "metadata": {},
     "output_type": "execute_result"
    }
   ],
   "execution_count": 151
  },
  {
   "metadata": {
    "ExecuteTime": {
     "end_time": "2025-08-05T11:34:03.250646Z",
     "start_time": "2025-08-05T11:34:03.247382Z"
    }
   },
   "cell_type": "code",
   "source": "scaphandre_vms.columns",
   "id": "6beeedb6e5565f75",
   "outputs": [
    {
     "data": {
      "text/plain": [
       "Index(['result', 'table', '_start', '_stop', '_time', '_value', '_field',\n",
       "       '_measurement', 'cmdline', 'exe', 'granularity', 'inventory-cluster-id',\n",
       "       'inventory-rack-id', 'plugin', 'system_type', 'url', 'uuid', 'vm_id',\n",
       "       'vm_name'],\n",
       "      dtype='object')"
      ]
     },
     "execution_count": 152,
     "metadata": {},
     "output_type": "execute_result"
    }
   ],
   "execution_count": 152
  },
  {
   "metadata": {},
   "cell_type": "markdown",
   "source": [
    "## Columns:\n",
    "\n",
    "- 'result': column with only one value '_result' - REMOVE\n",
    "- 'table': column with values from 0 to 1 - NOT SURE HOW RELEVANT IT IS - REMOVE\n",
    "- '_start': column with timestamps, only one value ('2025-08-04 06:00:00+00:00') - REMOVE\n",
    "- '_stop': column with timestamps, only one value ('2025-08-04 11:00:00+00:00') - REMOVE\n",
    "- '_time': column with timestamps, values from '2025-08-04 06:00:00+00:00' to '2025-08-04 11:00:00+00:00' second by second - KEEP\n",
    "- '_value': column with values from the '_field' column, values are floats - KEEP\n",
    "- '_field': column with names of the metrics ({'scaph_process_cpu_usage_percentage', 'scaph_process_disk_read_bytes', 'scaph_process_disk_total_read_bytes',\n",
    "'scaph_process_disk_total_write_bytes', 'scaph_process_disk_write_bytes', 'scaph_process_memory_bytes', 'scaph_process_memory_virtual_bytes',\n",
    "'scaph_process_power_consumption_microwatts'}) - KEEP\n",
    "- '_measurement': column with values: 'energy_measurements' and 'computational_measurements' - KEEP\n",
    "- 'cmdline': column with command lines - REMOVE\n",
    "- 'exe': column with only one value: '/usr/bin/qemu-system-x86_64' - REMOVE\n",
    "- 'granularity': column with only one value: 'host+process' - REMOVE\n",
    "- 'inventory-cluster-id': column with the only one value: 'flux' - REMOVE\n",
    "- 'inventory-rack-id': column with the only one value: 'r4' - REMOVE\n",
    "- 'plugin': column with only one value: 'scaphandre' - REMOVE\n",
    "- 'system_type': column with only one value: 'kvm' - REMOVE\n",
    "- 'url': column with URLs. - KEEP\n",
    "- 'uuid': column with UUIDs - KEEP\n",
    "- 'vm_id': column with VM IDs - KEEP\n",
    "- 'vm_name': column with VM names, values are: {'neuronet-k8s-lb', 'neuronet-k8s-m1', 'neuronet-k8s-m2', 'neuronet-k8s-m3',\n",
    "'neuronet-k8s-w1', 'neuronet-k8s-w2', 'neuronet-k8s-w3', 'neuronet-lb', 'neuronet-m1', 'neuronet-m2', 'neuronet-m3', 'neuronet-w1', 'neuronet-w2', 'neuronet-w3'} - KEEP"
   ],
   "id": "a8106bbe1f2870f7"
  },
  {
   "metadata": {
    "ExecuteTime": {
     "end_time": "2025-08-05T13:09:52.754081Z",
     "start_time": "2025-08-05T13:09:52.750407Z"
    }
   },
   "cell_type": "code",
   "source": "scaphandre_vms = scaphandre_vms.drop(columns=['result', 'table', '_start', '_stop', 'cmdline', 'exe', 'granularity', 'inventory-cluster-id', 'inventory-rack-id', 'plugin', 'system_type'])",
   "id": "da9eb47532c78ca5",
   "outputs": [],
   "execution_count": 169
  },
  {
   "metadata": {
    "ExecuteTime": {
     "end_time": "2025-08-05T13:10:20.622579Z",
     "start_time": "2025-08-05T13:10:20.613933Z"
    }
   },
   "cell_type": "code",
   "source": "scaphandre_vms.isna().sum()",
   "id": "5dccb405f752c0b9",
   "outputs": [
    {
     "data": {
      "text/plain": [
       "_time           0\n",
       "_value          0\n",
       "_field          0\n",
       "_measurement    0\n",
       "url             0\n",
       "uuid            0\n",
       "vm_id           0\n",
       "vm_name         0\n",
       "dtype: int64"
      ]
     },
     "execution_count": 171,
     "metadata": {},
     "output_type": "execute_result"
    }
   ],
   "execution_count": 171
  },
  {
   "metadata": {},
   "cell_type": "code",
   "outputs": [],
   "execution_count": null,
   "source": "",
   "id": "7158eaf22067b654"
  }
 ],
 "metadata": {
  "kernelspec": {
   "display_name": "Python 3",
   "language": "python",
   "name": "python3"
  },
  "language_info": {
   "codemirror_mode": {
    "name": "ipython",
    "version": 2
   },
   "file_extension": ".py",
   "mimetype": "text/x-python",
   "name": "python",
   "nbconvert_exporter": "python",
   "pygments_lexer": "ipython2",
   "version": "2.7.6"
  }
 },
 "nbformat": 4,
 "nbformat_minor": 5
}
